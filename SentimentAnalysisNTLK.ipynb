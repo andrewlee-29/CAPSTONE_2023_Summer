{
 "cells": [
  {
   "cell_type": "markdown",
   "metadata": {},
   "source": [
    "# Load Dataset"
   ]
  },
  {
   "cell_type": "code",
   "execution_count": 3,
   "metadata": {},
   "outputs": [
    {
     "name": "stderr",
     "output_type": "stream",
     "text": [
      "[nltk_data] Downloading package punkt to\n",
      "[nltk_data]     C:\\Users\\andre\\AppData\\Roaming\\nltk_data...\n",
      "[nltk_data]   Package punkt is already up-to-date!\n",
      "[nltk_data] Downloading package averaged_perceptron_tagger to\n",
      "[nltk_data]     C:\\Users\\andre\\AppData\\Roaming\\nltk_data...\n",
      "[nltk_data]   Package averaged_perceptron_tagger is already up-to-\n",
      "[nltk_data]       date!\n",
      "[nltk_data] Downloading package maxent_ne_chunker to\n",
      "[nltk_data]     C:\\Users\\andre\\AppData\\Roaming\\nltk_data...\n",
      "[nltk_data]   Package maxent_ne_chunker is already up-to-date!\n",
      "[nltk_data] Downloading package words to\n",
      "[nltk_data]     C:\\Users\\andre\\AppData\\Roaming\\nltk_data...\n",
      "[nltk_data]   Package words is already up-to-date!\n"
     ]
    }
   ],
   "source": [
    "import pandas as pd\n",
    "import numpy as np\n",
    "import matplotlib.pyplot as plt\n",
    "import seaborn as sns\n",
    "\n",
    "import nltk\n",
    "from nltk.corpus import stopwords\n",
    "from nltk.tokenize import word_tokenize\n",
    "from nltk.probability import FreqDist\n",
    "from nltk.tag import pos_tag\n",
    "import spacy\n",
    "\n",
    "from wordcloud import WordCloud\n",
    "nltk.download('punkt')\n",
    "nltk.download('averaged_perceptron_tagger')\n",
    "nltk.download('maxent_ne_chunker')\n",
    "nltk.download('words')\n",
    "\n",
    "import re\n",
    "from collections import Counter\n",
    "from prettytable import PrettyTable\n",
    "import docx"
   ]
  },
  {
   "cell_type": "code",
   "execution_count": 4,
   "metadata": {},
   "outputs": [
    {
     "data": {
      "text/html": [
       "<div>\n",
       "<style scoped>\n",
       "    .dataframe tbody tr th:only-of-type {\n",
       "        vertical-align: middle;\n",
       "    }\n",
       "\n",
       "    .dataframe tbody tr th {\n",
       "        vertical-align: top;\n",
       "    }\n",
       "\n",
       "    .dataframe thead th {\n",
       "        text-align: right;\n",
       "    }\n",
       "</style>\n",
       "<table border=\"1\" class=\"dataframe\">\n",
       "  <thead>\n",
       "    <tr style=\"text-align: right;\">\n",
       "      <th></th>\n",
       "      <th>Datetime</th>\n",
       "      <th>Tweet Id</th>\n",
       "      <th>Text</th>\n",
       "      <th>Username</th>\n",
       "      <th>Permalink</th>\n",
       "      <th>User</th>\n",
       "      <th>Outlinks</th>\n",
       "      <th>CountLinks</th>\n",
       "      <th>ReplyCount</th>\n",
       "      <th>RetweetCount</th>\n",
       "      <th>LikeCount</th>\n",
       "      <th>QuoteCount</th>\n",
       "      <th>ConversationId</th>\n",
       "      <th>Language</th>\n",
       "      <th>Source</th>\n",
       "      <th>Media</th>\n",
       "      <th>QuotedTweet</th>\n",
       "      <th>MentionedUsers</th>\n",
       "      <th>hashtag</th>\n",
       "      <th>hastag_counts</th>\n",
       "    </tr>\n",
       "  </thead>\n",
       "  <tbody>\n",
       "    <tr>\n",
       "      <th>0</th>\n",
       "      <td>2023-01-22 13:44:34+00:00</td>\n",
       "      <td>1617156270871699456</td>\n",
       "      <td>ChatGPTで遊ぶの忘れてた！！\\n書類作るコード書いてみてほしいのと、\\nどこまで思考整...</td>\n",
       "      <td>mochico0123</td>\n",
       "      <td>https://twitter.com/mochico0123/status/1617156...</td>\n",
       "      <td>https://twitter.com/mochico0123</td>\n",
       "      <td>NaN</td>\n",
       "      <td>NaN</td>\n",
       "      <td>1</td>\n",
       "      <td>0</td>\n",
       "      <td>5</td>\n",
       "      <td>0</td>\n",
       "      <td>1617156270871699456</td>\n",
       "      <td>ja</td>\n",
       "      <td>&lt;a href=\"http://twitter.com/download/iphone\" r...</td>\n",
       "      <td>NaN</td>\n",
       "      <td>NaN</td>\n",
       "      <td>NaN</td>\n",
       "      <td>[]</td>\n",
       "      <td>0</td>\n",
       "    </tr>\n",
       "    <tr>\n",
       "      <th>1</th>\n",
       "      <td>2023-01-22 13:44:39+00:00</td>\n",
       "      <td>1617156291046133761</td>\n",
       "      <td>@AlexandrovnaIng Prohibition of ChatGPT has be...</td>\n",
       "      <td>Caput_LupinumSG</td>\n",
       "      <td>https://twitter.com/Caput_LupinumSG/status/161...</td>\n",
       "      <td>https://twitter.com/Caput_LupinumSG</td>\n",
       "      <td>NaN</td>\n",
       "      <td>NaN</td>\n",
       "      <td>1</td>\n",
       "      <td>0</td>\n",
       "      <td>5</td>\n",
       "      <td>0</td>\n",
       "      <td>1617148639993806848</td>\n",
       "      <td>en</td>\n",
       "      <td>&lt;a href=\"http://twitter.com/download/iphone\" r...</td>\n",
       "      <td>NaN</td>\n",
       "      <td>NaN</td>\n",
       "      <td>[User(username='AlexandrovnaIng', id=282705900...</td>\n",
       "      <td>[]</td>\n",
       "      <td>0</td>\n",
       "    </tr>\n",
       "    <tr>\n",
       "      <th>2</th>\n",
       "      <td>2023-01-22 13:44:44+00:00</td>\n",
       "      <td>1617156308926349312</td>\n",
       "      <td>Schaut Euch an, was @fobizz @DianaKnodel alles...</td>\n",
       "      <td>ciffi</td>\n",
       "      <td>https://twitter.com/ciffi/status/1617156308926...</td>\n",
       "      <td>https://twitter.com/ciffi</td>\n",
       "      <td>['https://us02web.zoom.us/webinar/register/801...</td>\n",
       "      <td>['https://t.co/DsoeVJrPBp', 'https://t.co/HflT...</td>\n",
       "      <td>0</td>\n",
       "      <td>0</td>\n",
       "      <td>4</td>\n",
       "      <td>0</td>\n",
       "      <td>1617156308926349312</td>\n",
       "      <td>de</td>\n",
       "      <td>&lt;a href=\"http://twitter.com/#!/download/ipad\" ...</td>\n",
       "      <td>[Photo(previewUrl='https://pbs.twimg.com/media...</td>\n",
       "      <td>https://twitter.com/DianaKnodel/status/1617153...</td>\n",
       "      <td>[User(username='fobizz', id=884708145792253952...</td>\n",
       "      <td>['#ChatGPT']</td>\n",
       "      <td>1</td>\n",
       "    </tr>\n",
       "    <tr>\n",
       "      <th>3</th>\n",
       "      <td>2023-01-22 13:44:49+00:00</td>\n",
       "      <td>1617156332297256961</td>\n",
       "      <td>Bow down to chatGPT 🫡..... https://t.co/ENTSzi...</td>\n",
       "      <td>Vishwasrisiri</td>\n",
       "      <td>https://twitter.com/Vishwasrisiri/status/16171...</td>\n",
       "      <td>https://twitter.com/Vishwasrisiri</td>\n",
       "      <td>['https://twitter.com/agadmator/status/1617155...</td>\n",
       "      <td>['https://t.co/ENTSzi2AQ9']</td>\n",
       "      <td>0</td>\n",
       "      <td>0</td>\n",
       "      <td>2</td>\n",
       "      <td>0</td>\n",
       "      <td>1617156332297256961</td>\n",
       "      <td>en</td>\n",
       "      <td>&lt;a href=\"http://twitter.com/download/android\" ...</td>\n",
       "      <td>NaN</td>\n",
       "      <td>https://twitter.com/agadmator/status/161715501...</td>\n",
       "      <td>NaN</td>\n",
       "      <td>[]</td>\n",
       "      <td>0</td>\n",
       "    </tr>\n",
       "    <tr>\n",
       "      <th>4</th>\n",
       "      <td>2023-01-22 13:44:52+00:00</td>\n",
       "      <td>1617156345064570880</td>\n",
       "      <td>Profilinde vatan, Türkiye falan yazan bireyler...</td>\n",
       "      <td>0xGenetikciniz</td>\n",
       "      <td>https://twitter.com/0xGenetikciniz/status/1617...</td>\n",
       "      <td>https://twitter.com/0xGenetikciniz</td>\n",
       "      <td>NaN</td>\n",
       "      <td>NaN</td>\n",
       "      <td>0</td>\n",
       "      <td>0</td>\n",
       "      <td>4</td>\n",
       "      <td>0</td>\n",
       "      <td>1617156345064570880</td>\n",
       "      <td>tr</td>\n",
       "      <td>&lt;a href=\"http://twitter.com/download/iphone\" r...</td>\n",
       "      <td>NaN</td>\n",
       "      <td>NaN</td>\n",
       "      <td>NaN</td>\n",
       "      <td>[]</td>\n",
       "      <td>0</td>\n",
       "    </tr>\n",
       "  </tbody>\n",
       "</table>\n",
       "</div>"
      ],
      "text/plain": [
       "                    Datetime             Tweet Id  \\\n",
       "0  2023-01-22 13:44:34+00:00  1617156270871699456   \n",
       "1  2023-01-22 13:44:39+00:00  1617156291046133761   \n",
       "2  2023-01-22 13:44:44+00:00  1617156308926349312   \n",
       "3  2023-01-22 13:44:49+00:00  1617156332297256961   \n",
       "4  2023-01-22 13:44:52+00:00  1617156345064570880   \n",
       "\n",
       "                                                Text         Username  \\\n",
       "0  ChatGPTで遊ぶの忘れてた！！\\n書類作るコード書いてみてほしいのと、\\nどこまで思考整...      mochico0123   \n",
       "1  @AlexandrovnaIng Prohibition of ChatGPT has be...  Caput_LupinumSG   \n",
       "2  Schaut Euch an, was @fobizz @DianaKnodel alles...            ciffi   \n",
       "3  Bow down to chatGPT 🫡..... https://t.co/ENTSzi...    Vishwasrisiri   \n",
       "4  Profilinde vatan, Türkiye falan yazan bireyler...   0xGenetikciniz   \n",
       "\n",
       "                                           Permalink  \\\n",
       "0  https://twitter.com/mochico0123/status/1617156...   \n",
       "1  https://twitter.com/Caput_LupinumSG/status/161...   \n",
       "2  https://twitter.com/ciffi/status/1617156308926...   \n",
       "3  https://twitter.com/Vishwasrisiri/status/16171...   \n",
       "4  https://twitter.com/0xGenetikciniz/status/1617...   \n",
       "\n",
       "                                  User  \\\n",
       "0      https://twitter.com/mochico0123   \n",
       "1  https://twitter.com/Caput_LupinumSG   \n",
       "2            https://twitter.com/ciffi   \n",
       "3    https://twitter.com/Vishwasrisiri   \n",
       "4   https://twitter.com/0xGenetikciniz   \n",
       "\n",
       "                                            Outlinks  \\\n",
       "0                                                NaN   \n",
       "1                                                NaN   \n",
       "2  ['https://us02web.zoom.us/webinar/register/801...   \n",
       "3  ['https://twitter.com/agadmator/status/1617155...   \n",
       "4                                                NaN   \n",
       "\n",
       "                                          CountLinks  ReplyCount  \\\n",
       "0                                                NaN           1   \n",
       "1                                                NaN           1   \n",
       "2  ['https://t.co/DsoeVJrPBp', 'https://t.co/HflT...           0   \n",
       "3                        ['https://t.co/ENTSzi2AQ9']           0   \n",
       "4                                                NaN           0   \n",
       "\n",
       "   RetweetCount  LikeCount  QuoteCount       ConversationId Language  \\\n",
       "0             0          5           0  1617156270871699456       ja   \n",
       "1             0          5           0  1617148639993806848       en   \n",
       "2             0          4           0  1617156308926349312       de   \n",
       "3             0          2           0  1617156332297256961       en   \n",
       "4             0          4           0  1617156345064570880       tr   \n",
       "\n",
       "                                              Source  \\\n",
       "0  <a href=\"http://twitter.com/download/iphone\" r...   \n",
       "1  <a href=\"http://twitter.com/download/iphone\" r...   \n",
       "2  <a href=\"http://twitter.com/#!/download/ipad\" ...   \n",
       "3  <a href=\"http://twitter.com/download/android\" ...   \n",
       "4  <a href=\"http://twitter.com/download/iphone\" r...   \n",
       "\n",
       "                                               Media  \\\n",
       "0                                                NaN   \n",
       "1                                                NaN   \n",
       "2  [Photo(previewUrl='https://pbs.twimg.com/media...   \n",
       "3                                                NaN   \n",
       "4                                                NaN   \n",
       "\n",
       "                                         QuotedTweet  \\\n",
       "0                                                NaN   \n",
       "1                                                NaN   \n",
       "2  https://twitter.com/DianaKnodel/status/1617153...   \n",
       "3  https://twitter.com/agadmator/status/161715501...   \n",
       "4                                                NaN   \n",
       "\n",
       "                                      MentionedUsers       hashtag  \\\n",
       "0                                                NaN            []   \n",
       "1  [User(username='AlexandrovnaIng', id=282705900...            []   \n",
       "2  [User(username='fobizz', id=884708145792253952...  ['#ChatGPT']   \n",
       "3                                                NaN            []   \n",
       "4                                                NaN            []   \n",
       "\n",
       "   hastag_counts  \n",
       "0              0  \n",
       "1              0  \n",
       "2              1  \n",
       "3              0  \n",
       "4              0  "
      ]
     },
     "execution_count": 4,
     "metadata": {},
     "output_type": "execute_result"
    }
   ],
   "source": [
    "df = pd.read_csv('./chatgpt1.csv')\n",
    "df.head()"
   ]
  },
  {
   "cell_type": "code",
   "execution_count": 5,
   "metadata": {},
   "outputs": [
    {
     "data": {
      "text/plain": [
       "(50001, 20)"
      ]
     },
     "execution_count": 5,
     "metadata": {},
     "output_type": "execute_result"
    }
   ],
   "source": [
    "### print 1 comment\n",
    "# df[\"content\"].values[1]\n",
    "\n",
    "df.shape"
   ]
  },
  {
   "cell_type": "code",
   "execution_count": 126,
   "metadata": {},
   "outputs": [
    {
     "name": "stdout",
     "output_type": "stream",
     "text": [
      "<class 'pandas.core.frame.DataFrame'>\n",
      "RangeIndex: 50001 entries, 0 to 50000\n",
      "Data columns (total 20 columns):\n",
      " #   Column          Non-Null Count  Dtype \n",
      "---  ------          --------------  ----- \n",
      " 0   Datetime        50001 non-null  object\n",
      " 1   Tweet Id        50001 non-null  int64 \n",
      " 2   Text            50001 non-null  object\n",
      " 3   Username        50001 non-null  object\n",
      " 4   Permalink       50001 non-null  object\n",
      " 5   User            50001 non-null  object\n",
      " 6   Outlinks        19942 non-null  object\n",
      " 7   CountLinks      19942 non-null  object\n",
      " 8   ReplyCount      50001 non-null  int64 \n",
      " 9   RetweetCount    50001 non-null  int64 \n",
      " 10  LikeCount       50001 non-null  int64 \n",
      " 11  QuoteCount      50001 non-null  int64 \n",
      " 12  ConversationId  50001 non-null  int64 \n",
      " 13  Language        50001 non-null  object\n",
      " 14  Source          50001 non-null  object\n",
      " 15  Media           9502 non-null   object\n",
      " 16  QuotedTweet     3563 non-null   object\n",
      " 17  MentionedUsers  17169 non-null  object\n",
      " 18  hashtag         50001 non-null  object\n",
      " 19  hastag_counts   50001 non-null  int64 \n",
      "dtypes: int64(7), object(13)\n",
      "memory usage: 7.6+ MB\n"
     ]
    }
   ],
   "source": [
    "# df= df.dropna(subset=['Text'])\n",
    "# df= df.drop(df[14894] , inplace=True)\n",
    "df.info()"
   ]
  },
  {
   "attachments": {},
   "cell_type": "markdown",
   "metadata": {},
   "source": [
    "# Exploratory Data Analysis (EDA)"
   ]
  },
  {
   "cell_type": "markdown",
   "metadata": {},
   "source": [
    "### Number of tweets with languages used in the tweets"
   ]
  },
  {
   "cell_type": "code",
   "execution_count": 57,
   "metadata": {},
   "outputs": [
    {
     "data": {
      "image/png": "[encoded data removed]",
      "text/plain": [
       "<Figure size 864x648 with 1 Axes>"
      ]
     },
     "metadata": {
      "needs_background": "light"
     },
     "output_type": "display_data"
    }
   ],
   "source": [
    "plt.figure(figsize=(12,9))\n",
    "sns.countplot(data=df, x='Language', order=df[\"Language\"].value_counts().index[:5])\n",
    "plt.savefig('fig1.png')\n",
    "plt.show()"
   ]
  },
  {
   "cell_type": "markdown",
   "metadata": {},
   "source": [
    "### Number of tweets posted with time range"
   ]
  },
  {
   "cell_type": "code",
   "execution_count": 58,
   "metadata": {},
   "outputs": [
    {
     "data": {
      "image/png": "[encoded data removed]",
      "text/plain": [
       "<Figure size 864x648 with 1 Axes>"
      ]
     },
     "metadata": {
      "needs_background": "light"
     },
     "output_type": "display_data"
    }
   ],
   "source": [
    "df['Datetime'] = pd.to_datetime(df['Datetime'])\n",
    "df['day'] = df['Datetime'].dt.day\n",
    "plt.figure(figsize=(12,9))\n",
    "plt.hist(df['Datetime'], bins=24, edgecolor='black')\n",
    "plt.xlabel('Hour of Day')\n",
    "plt.ylabel('Number of Tweets')\n",
    "plt.xticks(rotation=90)\n",
    "plt.xticks(rotation = 45)\n",
    "plt.savefig('fig2.png')\n",
    "plt.show()"
   ]
  },
  {
   "cell_type": "markdown",
   "metadata": {},
   "source": [
    "As above fig shown, the dataset data is collected on January 22 to January 24 (three days)."
   ]
  },
  {
   "cell_type": "markdown",
   "metadata": {},
   "source": [
    "### Number of tweets posted with number of likecounts"
   ]
  },
  {
   "cell_type": "code",
   "execution_count": 109,
   "metadata": {},
   "outputs": [
    {
     "data": {
      "image/png": "[encoded data removed]",
      "text/plain": [
       "<Figure size 864x432 with 1 Axes>"
      ]
     },
     "metadata": {
      "needs_background": "light"
     },
     "output_type": "display_data"
    }
   ],
   "source": [
    "plt.figure(figsize=(12,6))\n",
    "ax=sns.countplot(data=df, x='LikeCount', order=df[\"LikeCount\"].value_counts().index[:5])\n",
    "ax.set_xlabel(\"number of like_count\")\n",
    "ax.set_ylabel(\"number of tweets\")\n",
    "plt.xticks(rotation=90)\n",
    "plt.savefig('fig2-3.png')\n",
    "plt.show()"
   ]
  },
  {
   "cell_type": "markdown",
   "metadata": {},
   "source": [
    "### Number of tweets posted with number of replycounts"
   ]
  },
  {
   "cell_type": "code",
   "execution_count": 108,
   "metadata": {},
   "outputs": [
    {
     "data": {
      "image/png": "[encoded data removed]",
      "text/plain": [
       "<Figure size 864x432 with 1 Axes>"
      ]
     },
     "metadata": {
      "needs_background": "light"
     },
     "output_type": "display_data"
    }
   ],
   "source": [
    "plt.figure(figsize=(12,6))\n",
    "ax=sns.countplot(data=df, x='ReplyCount', order=df[\"ReplyCount\"].value_counts().index[:10])\n",
    "ax.set_xlabel(\"number of ReplyCount\")\n",
    "ax.set_ylabel(\"number of tweets\")\n",
    "plt.xticks(rotation=90)\n",
    "plt.show()"
   ]
  },
  {
   "cell_type": "markdown",
   "metadata": {},
   "source": [
    "### Number of tweets posted with number of retweetcounts"
   ]
  },
  {
   "cell_type": "code",
   "execution_count": 10,
   "metadata": {},
   "outputs": [
    {
     "data": {
      "image/png": "[encoded data removed]",
      "text/plain": [
       "<Figure size 864x432 with 1 Axes>"
      ]
     },
     "metadata": {
      "needs_background": "light"
     },
     "output_type": "display_data"
    }
   ],
   "source": [
    "plt.figure(figsize=(12,6))\n",
    "ax=sns.countplot(data=df, x='RetweetCount', order=df[\"RetweetCount\"].value_counts().index[:10])\n",
    "ax.set_xlabel(\"number of RetweetCount\")\n",
    "ax.set_ylabel(\"number of tweets\")\n",
    "plt.xticks(rotation=90)\n",
    "plt.show()"
   ]
  },
  {
   "cell_type": "markdown",
   "metadata": {},
   "source": [
    "### Number of tweets posted with number of hastagcounts"
   ]
  },
  {
   "cell_type": "code",
   "execution_count": 11,
   "metadata": {},
   "outputs": [
    {
     "data": {
      "image/png": "[encoded data removed]",
      "text/plain": [
       "<Figure size 864x432 with 1 Axes>"
      ]
     },
     "metadata": {
      "needs_background": "light"
     },
     "output_type": "display_data"
    }
   ],
   "source": [
    "plt.figure(figsize=(12,6))\n",
    "sns.countplot(data=df, x='hastag_counts', order=df[\"hastag_counts\"].value_counts().index[:10])\n",
    "plt.xticks(rotation = 90)\n",
    "plt.show()"
   ]
  },
  {
   "cell_type": "markdown",
   "metadata": {},
   "source": [
    "### Top 10 Mentioned words in whole dataset"
   ]
  },
  {
   "cell_type": "code",
   "execution_count": 75,
   "metadata": {},
   "outputs": [
    {
     "data": {
      "text/html": [
       "<div>\n",
       "<style scoped>\n",
       "    .dataframe tbody tr th:only-of-type {\n",
       "        vertical-align: middle;\n",
       "    }\n",
       "\n",
       "    .dataframe tbody tr th {\n",
       "        vertical-align: top;\n",
       "    }\n",
       "\n",
       "    .dataframe thead th {\n",
       "        text-align: right;\n",
       "    }\n",
       "</style>\n",
       "<table border=\"1\" class=\"dataframe\">\n",
       "  <thead>\n",
       "    <tr style=\"text-align: right;\">\n",
       "      <th></th>\n",
       "      <th>Word</th>\n",
       "      <th>Frequency</th>\n",
       "    </tr>\n",
       "  </thead>\n",
       "  <tbody>\n",
       "    <tr>\n",
       "      <th>0</th>\n",
       "      <td>chatgpt</td>\n",
       "      <td>36533</td>\n",
       "    </tr>\n",
       "    <tr>\n",
       "      <th>1</th>\n",
       "      <td>ai</td>\n",
       "      <td>7864</td>\n",
       "    </tr>\n",
       "    <tr>\n",
       "      <th>2</th>\n",
       "      <td>de</td>\n",
       "      <td>7202</td>\n",
       "    </tr>\n",
       "    <tr>\n",
       "      <th>3</th>\n",
       "      <td>openai</td>\n",
       "      <td>4350</td>\n",
       "    </tr>\n",
       "    <tr>\n",
       "      <th>4</th>\n",
       "      <td>gpt</td>\n",
       "      <td>3425</td>\n",
       "    </tr>\n",
       "    <tr>\n",
       "      <th>5</th>\n",
       "      <td>chat</td>\n",
       "      <td>3400</td>\n",
       "    </tr>\n",
       "    <tr>\n",
       "      <th>6</th>\n",
       "      <td>que</td>\n",
       "      <td>3258</td>\n",
       "    </tr>\n",
       "    <tr>\n",
       "      <th>7</th>\n",
       "      <td>la</td>\n",
       "      <td>2886</td>\n",
       "    </tr>\n",
       "    <tr>\n",
       "      <th>8</th>\n",
       "      <td>like</td>\n",
       "      <td>2518</td>\n",
       "    </tr>\n",
       "    <tr>\n",
       "      <th>9</th>\n",
       "      <td>en</td>\n",
       "      <td>2485</td>\n",
       "    </tr>\n",
       "  </tbody>\n",
       "</table>\n",
       "</div>"
      ],
      "text/plain": [
       "      Word  Frequency\n",
       "0  chatgpt      36533\n",
       "1       ai       7864\n",
       "2       de       7202\n",
       "3   openai       4350\n",
       "4      gpt       3425\n",
       "5     chat       3400\n",
       "6      que       3258\n",
       "7       la       2886\n",
       "8     like       2518\n",
       "9       en       2485"
      ]
     },
     "execution_count": 75,
     "metadata": {},
     "output_type": "execute_result"
    }
   ],
   "source": [
    "\n",
    "def calcuate_word_frequency(text):\n",
    "    text= re.sub(r'[^\\w\\s]', '',text.lower())\n",
    "    tokens = nltk.word_tokenize(text)\n",
    "    #Remove stopword\n",
    "    stop_words = set(stopwords.words('english'))\n",
    "    words = [word for word in tokens if word not in stop_words]\n",
    "    #Count frequency of each word\n",
    "    word_counts = Counter(words)\n",
    "    return word_counts\n",
    "\n",
    "def display_word_frequency_table(word_counts,type):\n",
    "    table = PrettyTable([type, \"Frequency\"])\n",
    "    for word,count  in word_counts:\n",
    "        table.add_row([word,count])\n",
    "    print(table)\n",
    "def save_table_to_fig(df,figname):\n",
    "    doc = docx.Document()\n",
    "    t = doc.add_table(rows=(df.shape[0] + 1), cols=df.shape[1], style='TableGrid')\n",
    "    # Add borders\n",
    "    # Add the column headings\n",
    "    for j in range(df.shape[1]):\n",
    "        t.cell(0, j).text = df.columns[j]\n",
    "    # Add the body of the data frame\n",
    "    for i in range(df.shape[0]):\n",
    "        for j in range(df.shape[1]):\n",
    "            cell = df.iat[i, j]\n",
    "            t.cell(i + 1, j).text = str(cell)\n",
    "    doc.save(figname)\n",
    "\n",
    "all_words = \"\".join(sentence for sentence in df[\"Text\"])\n",
    "word_counts = calcuate_word_frequency(all_words)\n",
    "temp_table= pd.DataFrame(word_counts.most_common()[:10], columns =['Word', 'Frequency'])\n",
    "temp_table"
   ]
  },
  {
   "attachments": {},
   "cell_type": "markdown",
   "metadata": {},
   "source": [
    "# NLP with NLTK"
   ]
  },
  {
   "cell_type": "markdown",
   "metadata": {},
   "source": [
    "find most used word among the most reacted posts. after removing the stopwords and preliminary text analysis"
   ]
  },
  {
   "cell_type": "markdown",
   "metadata": {},
   "source": [
    "### Tokenizing words from text"
   ]
  },
  {
   "cell_type": "code",
   "execution_count": 22,
   "metadata": {},
   "outputs": [],
   "source": [
    "# keep the english tweet and keep the text feautre.\n",
    "import string\n",
    "nlp_df= df[df['Language'] == 'en']\n",
    "all_docs = nlp_df['Text'].values"
   ]
  },
  {
   "cell_type": "code",
   "execution_count": 23,
   "metadata": {},
   "outputs": [
    {
     "name": "stderr",
     "output_type": "stream",
     "text": [
      "C:\\Users\\andre\\AppData\\Local\\Temp\\ipykernel_10500\\4125845278.py:7: SettingWithCopyWarning: \n",
      "A value is trying to be set on a copy of a slice from a DataFrame.\n",
      "Try using .loc[row_indexer,col_indexer] = value instead\n",
      "\n",
      "See the caveats in the documentation: https://pandas.pydata.org/pandas-docs/stable/user_guide/indexing.html#returning-a-view-versus-a-copy\n",
      "  nlp_df['Word Tokenized'] = tokenized\n"
     ]
    },
    {
     "data": {
      "text/html": [
       "<div>\n",
       "<style scoped>\n",
       "    .dataframe tbody tr th:only-of-type {\n",
       "        vertical-align: middle;\n",
       "    }\n",
       "\n",
       "    .dataframe tbody tr th {\n",
       "        vertical-align: top;\n",
       "    }\n",
       "\n",
       "    .dataframe thead th {\n",
       "        text-align: right;\n",
       "    }\n",
       "</style>\n",
       "<table border=\"1\" class=\"dataframe\">\n",
       "  <thead>\n",
       "    <tr style=\"text-align: right;\">\n",
       "      <th></th>\n",
       "      <th>Tweet Id</th>\n",
       "      <th>Word Tokenized</th>\n",
       "    </tr>\n",
       "  </thead>\n",
       "  <tbody>\n",
       "    <tr>\n",
       "      <th>1</th>\n",
       "      <td>1617156291046133761</td>\n",
       "      <td>[alexandrovnaing, prohibition, of, chatgpt, ha...</td>\n",
       "    </tr>\n",
       "    <tr>\n",
       "      <th>3</th>\n",
       "      <td>1617156332297256961</td>\n",
       "      <td>[bow, down, to, chatgpt, 🫡, https, tcoentszi2aq9]</td>\n",
       "    </tr>\n",
       "    <tr>\n",
       "      <th>6</th>\n",
       "      <td>1617156389217894400</td>\n",
       "      <td>[chatgpt, runs, 10k, nvidia, training, gpus, w...</td>\n",
       "    </tr>\n",
       "    <tr>\n",
       "      <th>7</th>\n",
       "      <td>1617156393898745858</td>\n",
       "      <td>[swengdad, there, is, repetitive, work, in, ev...</td>\n",
       "    </tr>\n",
       "    <tr>\n",
       "      <th>8</th>\n",
       "      <td>1617156404137295878</td>\n",
       "      <td>[i, created, a, fictional, jewelry, brand, usi...</td>\n",
       "    </tr>\n",
       "  </tbody>\n",
       "</table>\n",
       "</div>"
      ],
      "text/plain": [
       "              Tweet Id                                     Word Tokenized\n",
       "1  1617156291046133761  [alexandrovnaing, prohibition, of, chatgpt, ha...\n",
       "3  1617156332297256961  [bow, down, to, chatgpt, 🫡, https, tcoentszi2aq9]\n",
       "6  1617156389217894400  [chatgpt, runs, 10k, nvidia, training, gpus, w...\n",
       "7  1617156393898745858  [swengdad, there, is, repetitive, work, in, ev...\n",
       "8  1617156404137295878  [i, created, a, fictional, jewelry, brand, usi..."
      ]
     },
     "execution_count": 23,
     "metadata": {},
     "output_type": "execute_result"
    }
   ],
   "source": [
    "# remove punctuation and tokenized the tweet text\n",
    "exclude = set(string.punctuation)\n",
    "tokenized = []\n",
    "for doc in all_docs:\n",
    "    tokens = nltk.word_tokenize(doc.lower())\n",
    "    tokenized.append(''.join([ch for ch in ' '.join(tokens) if ch not in exclude]).split())\n",
    "nlp_df['Word Tokenized'] = tokenized\n",
    "nlp_df[['Tweet Id','Word Tokenized']].head()"
   ]
  },
  {
   "cell_type": "markdown",
   "metadata": {},
   "source": [
    "### Removing Stopwords from Tokens"
   ]
  },
  {
   "cell_type": "code",
   "execution_count": 24,
   "metadata": {},
   "outputs": [
    {
     "name": "stderr",
     "output_type": "stream",
     "text": [
      "C:\\Users\\andre\\AppData\\Local\\Temp\\ipykernel_10500\\4137478686.py:12: SettingWithCopyWarning: \n",
      "A value is trying to be set on a copy of a slice from a DataFrame.\n",
      "Try using .loc[row_indexer,col_indexer] = value instead\n",
      "\n",
      "See the caveats in the documentation: https://pandas.pydata.org/pandas-docs/stable/user_guide/indexing.html#returning-a-view-versus-a-copy\n",
      "  nlp_df['Stopword Removed'] = sw_removed\n"
     ]
    },
    {
     "data": {
      "text/html": [
       "<div>\n",
       "<style scoped>\n",
       "    .dataframe tbody tr th:only-of-type {\n",
       "        vertical-align: middle;\n",
       "    }\n",
       "\n",
       "    .dataframe tbody tr th {\n",
       "        vertical-align: top;\n",
       "    }\n",
       "\n",
       "    .dataframe thead th {\n",
       "        text-align: right;\n",
       "    }\n",
       "</style>\n",
       "<table border=\"1\" class=\"dataframe\">\n",
       "  <thead>\n",
       "    <tr style=\"text-align: right;\">\n",
       "      <th></th>\n",
       "      <th>Tweet Id</th>\n",
       "      <th>Stopword Removed</th>\n",
       "    </tr>\n",
       "  </thead>\n",
       "  <tbody>\n",
       "    <tr>\n",
       "      <th>1</th>\n",
       "      <td>1617156291046133761</td>\n",
       "      <td>[alexandrovnaing, prohibition, chatgpt, added,...</td>\n",
       "    </tr>\n",
       "    <tr>\n",
       "      <th>3</th>\n",
       "      <td>1617156332297256961</td>\n",
       "      <td>[bow, chatgpt, tcoentszi2aq9]</td>\n",
       "    </tr>\n",
       "    <tr>\n",
       "      <th>6</th>\n",
       "      <td>1617156389217894400</td>\n",
       "      <td>[chatgpt, runs, 10k, nvidia, training, gpus, p...</td>\n",
       "    </tr>\n",
       "    <tr>\n",
       "      <th>7</th>\n",
       "      <td>1617156393898745858</td>\n",
       "      <td>[swengdad, repetitive, work, every, job, lots,...</td>\n",
       "    </tr>\n",
       "    <tr>\n",
       "      <th>8</th>\n",
       "      <td>1617156404137295878</td>\n",
       "      <td>[created, fictional, jewelry, brand, using, ch...</td>\n",
       "    </tr>\n",
       "  </tbody>\n",
       "</table>\n",
       "</div>"
      ],
      "text/plain": [
       "              Tweet Id                                   Stopword Removed\n",
       "1  1617156291046133761  [alexandrovnaing, prohibition, chatgpt, added,...\n",
       "3  1617156332297256961                      [bow, chatgpt, tcoentszi2aq9]\n",
       "6  1617156389217894400  [chatgpt, runs, 10k, nvidia, training, gpus, p...\n",
       "7  1617156393898745858  [swengdad, repetitive, work, every, job, lots,...\n",
       "8  1617156404137295878  [created, fictional, jewelry, brand, using, ch..."
      ]
     },
     "execution_count": 24,
     "metadata": {},
     "output_type": "execute_result"
    }
   ],
   "source": [
    "sw = set(stopwords.words('english'))\n",
    "sw.add('rt')\n",
    "sw.add('...')\n",
    "\n",
    "sw_removed = []\n",
    "# Remove stopword, http links, and text length less than 2\n",
    "for index, tokens in enumerate(nlp_df['Word Tokenized']):\n",
    "    sw_removed.append([i for i in tokens\n",
    "                      if i not in sw\n",
    "                      and len(i)>2\n",
    "                      and (not i.startswith(\"http\"))])\n",
    "nlp_df['Stopword Removed'] = sw_removed\n",
    "nlp_df[['Tweet Id','Stopword Removed']].head()"
   ]
  },
  {
   "cell_type": "markdown",
   "metadata": {},
   "source": [
    "### Add pos_tag to token (Maybe useful)"
   ]
  },
  {
   "cell_type": "code",
   "execution_count": 25,
   "metadata": {},
   "outputs": [
    {
     "name": "stderr",
     "output_type": "stream",
     "text": [
      "C:\\Users\\andre\\AppData\\Local\\Temp\\ipykernel_10500\\1510974931.py:6: SettingWithCopyWarning: \n",
      "A value is trying to be set on a copy of a slice from a DataFrame.\n",
      "Try using .loc[row_indexer,col_indexer] = value instead\n",
      "\n",
      "See the caveats in the documentation: https://pandas.pydata.org/pandas-docs/stable/user_guide/indexing.html#returning-a-view-versus-a-copy\n",
      "  nlp_df['pos_tags'] = pos_tags_list\n"
     ]
    },
    {
     "data": {
      "text/html": [
       "<div>\n",
       "<style scoped>\n",
       "    .dataframe tbody tr th:only-of-type {\n",
       "        vertical-align: middle;\n",
       "    }\n",
       "\n",
       "    .dataframe tbody tr th {\n",
       "        vertical-align: top;\n",
       "    }\n",
       "\n",
       "    .dataframe thead th {\n",
       "        text-align: right;\n",
       "    }\n",
       "</style>\n",
       "<table border=\"1\" class=\"dataframe\">\n",
       "  <thead>\n",
       "    <tr style=\"text-align: right;\">\n",
       "      <th></th>\n",
       "      <th>Tweet Id</th>\n",
       "      <th>pos_tags</th>\n",
       "    </tr>\n",
       "  </thead>\n",
       "  <tbody>\n",
       "    <tr>\n",
       "      <th>1</th>\n",
       "      <td>1617156291046133761</td>\n",
       "      <td>[(alexandrovnaing, VBG), (prohibition, NN), (o...</td>\n",
       "    </tr>\n",
       "    <tr>\n",
       "      <th>3</th>\n",
       "      <td>1617156332297256961</td>\n",
       "      <td>[(bow, RB), (down, RB), (to, TO), (chatgpt, VB...</td>\n",
       "    </tr>\n",
       "    <tr>\n",
       "      <th>6</th>\n",
       "      <td>1617156389217894400</td>\n",
       "      <td>[(chatgpt, NN), (runs, VBZ), (10k, CD), (nvidi...</td>\n",
       "    </tr>\n",
       "    <tr>\n",
       "      <th>7</th>\n",
       "      <td>1617156393898745858</td>\n",
       "      <td>[(swengdad, NN), (there, EX), (is, VBZ), (repe...</td>\n",
       "    </tr>\n",
       "    <tr>\n",
       "      <th>8</th>\n",
       "      <td>1617156404137295878</td>\n",
       "      <td>[(i, RB), (created, VBD), (a, DT), (fictional,...</td>\n",
       "    </tr>\n",
       "  </tbody>\n",
       "</table>\n",
       "</div>"
      ],
      "text/plain": [
       "              Tweet Id                                           pos_tags\n",
       "1  1617156291046133761  [(alexandrovnaing, VBG), (prohibition, NN), (o...\n",
       "3  1617156332297256961  [(bow, RB), (down, RB), (to, TO), (chatgpt, VB...\n",
       "6  1617156389217894400  [(chatgpt, NN), (runs, VBZ), (10k, CD), (nvidi...\n",
       "7  1617156393898745858  [(swengdad, NN), (there, EX), (is, VBZ), (repe...\n",
       "8  1617156404137295878  [(i, RB), (created, VBD), (a, DT), (fictional,..."
      ]
     },
     "execution_count": 25,
     "metadata": {},
     "output_type": "execute_result"
    }
   ],
   "source": [
    "# Adding Part of Speech Tagging\n",
    "pos_tags_list = []\n",
    "for tokens in nlp_df['Word Tokenized']:\n",
    "    pos_tags = nltk.pos_tag(tokens)\n",
    "    pos_tags_list.append(pos_tags)\n",
    "nlp_df['pos_tags'] = pos_tags_list\n",
    "nlp_df[['Tweet Id','pos_tags']].head()"
   ]
  },
  {
   "cell_type": "markdown",
   "metadata": {},
   "source": [
    "### Word Stemming (Not used)"
   ]
  },
  {
   "cell_type": "code",
   "execution_count": 26,
   "metadata": {},
   "outputs": [
    {
     "name": "stderr",
     "output_type": "stream",
     "text": [
      "C:\\Users\\andre\\AppData\\Local\\Temp\\ipykernel_10500\\690043007.py:6: SettingWithCopyWarning: \n",
      "A value is trying to be set on a copy of a slice from a DataFrame.\n",
      "Try using .loc[row_indexer,col_indexer] = value instead\n",
      "\n",
      "See the caveats in the documentation: https://pandas.pydata.org/pandas-docs/stable/user_guide/indexing.html#returning-a-view-versus-a-copy\n",
      "  nlp_df['Word Stemmed'] = nlp_df['Stopword Removed'].apply(stemming)\n"
     ]
    },
    {
     "data": {
      "text/html": [
       "<div>\n",
       "<style scoped>\n",
       "    .dataframe tbody tr th:only-of-type {\n",
       "        vertical-align: middle;\n",
       "    }\n",
       "\n",
       "    .dataframe tbody tr th {\n",
       "        vertical-align: top;\n",
       "    }\n",
       "\n",
       "    .dataframe thead th {\n",
       "        text-align: right;\n",
       "    }\n",
       "</style>\n",
       "<table border=\"1\" class=\"dataframe\">\n",
       "  <thead>\n",
       "    <tr style=\"text-align: right;\">\n",
       "      <th></th>\n",
       "      <th>Tweet Id</th>\n",
       "      <th>Word Stemmed</th>\n",
       "    </tr>\n",
       "  </thead>\n",
       "  <tbody>\n",
       "    <tr>\n",
       "      <th>1</th>\n",
       "      <td>1617156291046133761</td>\n",
       "      <td>[alexandrovna, prohibit, chatgpt, ad, honor, c...</td>\n",
       "    </tr>\n",
       "    <tr>\n",
       "      <th>3</th>\n",
       "      <td>1617156332297256961</td>\n",
       "      <td>[bow, chatgpt, tcoentszi2aq9]</td>\n",
       "    </tr>\n",
       "    <tr>\n",
       "      <th>6</th>\n",
       "      <td>1617156389217894400</td>\n",
       "      <td>[chatgpt, run, 10k, nvidia, train, gpu, potent...</td>\n",
       "    </tr>\n",
       "    <tr>\n",
       "      <th>7</th>\n",
       "      <td>1617156393898745858</td>\n",
       "      <td>[swengdad, repetit, work, everi, job, lot, sma...</td>\n",
       "    </tr>\n",
       "    <tr>\n",
       "      <th>8</th>\n",
       "      <td>1617156404137295878</td>\n",
       "      <td>[creat, fiction, jewelri, brand, use, chatgpt,...</td>\n",
       "    </tr>\n",
       "  </tbody>\n",
       "</table>\n",
       "</div>"
      ],
      "text/plain": [
       "              Tweet Id                                       Word Stemmed\n",
       "1  1617156291046133761  [alexandrovna, prohibit, chatgpt, ad, honor, c...\n",
       "3  1617156332297256961                      [bow, chatgpt, tcoentszi2aq9]\n",
       "6  1617156389217894400  [chatgpt, run, 10k, nvidia, train, gpu, potent...\n",
       "7  1617156393898745858  [swengdad, repetit, work, everi, job, lot, sma...\n",
       "8  1617156404137295878  [creat, fiction, jewelri, brand, use, chatgpt,..."
      ]
     },
     "execution_count": 26,
     "metadata": {},
     "output_type": "execute_result"
    }
   ],
   "source": [
    "from nltk.stem import PorterStemmer\n",
    "stemmer = PorterStemmer()\n",
    "def stemming(words):\n",
    "    return [stemmer.stem(word) for word in words]\n",
    "\n",
    "nlp_df['Word Stemmed'] = nlp_df['Stopword Removed'].apply(stemming)\n",
    "nlp_df[['Tweet Id','Word Stemmed']].head(5)"
   ]
  },
  {
   "cell_type": "markdown",
   "metadata": {},
   "source": [
    "### Top 10 Mentioned Tokens in whole dataset"
   ]
  },
  {
   "cell_type": "code",
   "execution_count": 77,
   "metadata": {},
   "outputs": [
    {
     "name": "stderr",
     "output_type": "stream",
     "text": [
      "c:\\Users\\andre\\AppData\\Local\\Programs\\Python\\Python310\\lib\\site-packages\\docx\\styles\\styles.py:139: UserWarning: style lookup by style_id is deprecated. Use style name as key instead.\n",
      "  return self._get_style_id_from_style(self[style_name], style_type)\n"
     ]
    },
    {
     "data": {
      "text/html": [
       "<div>\n",
       "<style scoped>\n",
       "    .dataframe tbody tr th:only-of-type {\n",
       "        vertical-align: middle;\n",
       "    }\n",
       "\n",
       "    .dataframe tbody tr th {\n",
       "        vertical-align: top;\n",
       "    }\n",
       "\n",
       "    .dataframe thead th {\n",
       "        text-align: right;\n",
       "    }\n",
       "</style>\n",
       "<table border=\"1\" class=\"dataframe\">\n",
       "  <thead>\n",
       "    <tr style=\"text-align: right;\">\n",
       "      <th></th>\n",
       "      <th>Word</th>\n",
       "      <th>Frequency</th>\n",
       "    </tr>\n",
       "  </thead>\n",
       "  <tbody>\n",
       "    <tr>\n",
       "      <th>0</th>\n",
       "      <td>chatgpt</td>\n",
       "      <td>32307</td>\n",
       "    </tr>\n",
       "    <tr>\n",
       "      <th>1</th>\n",
       "      <td>openai</td>\n",
       "      <td>3858</td>\n",
       "    </tr>\n",
       "    <tr>\n",
       "      <th>2</th>\n",
       "      <td>microsoft</td>\n",
       "      <td>2763</td>\n",
       "    </tr>\n",
       "    <tr>\n",
       "      <th>3</th>\n",
       "      <td>chat</td>\n",
       "      <td>2660</td>\n",
       "    </tr>\n",
       "    <tr>\n",
       "      <th>4</th>\n",
       "      <td>gpt</td>\n",
       "      <td>2578</td>\n",
       "    </tr>\n",
       "    <tr>\n",
       "      <th>5</th>\n",
       "      <td>like</td>\n",
       "      <td>2523</td>\n",
       "    </tr>\n",
       "    <tr>\n",
       "      <th>6</th>\n",
       "      <td>use</td>\n",
       "      <td>2340</td>\n",
       "    </tr>\n",
       "    <tr>\n",
       "      <th>7</th>\n",
       "      <td>google</td>\n",
       "      <td>2044</td>\n",
       "    </tr>\n",
       "    <tr>\n",
       "      <th>8</th>\n",
       "      <td>using</td>\n",
       "      <td>1728</td>\n",
       "    </tr>\n",
       "    <tr>\n",
       "      <th>9</th>\n",
       "      <td>new</td>\n",
       "      <td>1545</td>\n",
       "    </tr>\n",
       "  </tbody>\n",
       "</table>\n",
       "</div>"
      ],
      "text/plain": [
       "        Word  Frequency\n",
       "0    chatgpt      32307\n",
       "1     openai       3858\n",
       "2  microsoft       2763\n",
       "3       chat       2660\n",
       "4        gpt       2578\n",
       "5       like       2523\n",
       "6        use       2340\n",
       "7     google       2044\n",
       "8      using       1728\n",
       "9        new       1545"
      ]
     },
     "execution_count": 77,
     "metadata": {},
     "output_type": "execute_result"
    }
   ],
   "source": [
    "all_tokens = [token for sublist in nlp_df['Stopword Removed'] for token in sublist]\n",
    "token_counts = Counter(all_tokens)\n",
    "top_10_tokens = token_counts.most_common(10)\n",
    "\n",
    "# for token, count in top_10_tokens:\n",
    "#     print(f'Token: {token}, Count: {count}')\n",
    "temp_table= pd.DataFrame(top_10_tokens, columns =['Word', 'Frequency'])\n",
    "save_table_to_fig(temp_table,'table1.docx')\n",
    "temp_table"
   ]
  },
  {
   "attachments": {},
   "cell_type": "markdown",
   "metadata": {},
   "source": [
    "---"
   ]
  },
  {
   "attachments": {},
   "cell_type": "markdown",
   "metadata": {},
   "source": [
    "# VADER Seniment Scoring"
   ]
  },
  {
   "attachments": {},
   "cell_type": "markdown",
   "metadata": {},
   "source": [
    "cons: This method doesn't count the relationship between word"
   ]
  },
  {
   "cell_type": "markdown",
   "metadata": {},
   "source": [
    "### Using Vader to generate Seniment Label"
   ]
  },
  {
   "cell_type": "code",
   "execution_count": 34,
   "metadata": {},
   "outputs": [],
   "source": [
    "from nltk.sentiment import SentimentIntensityAnalyzer\n",
    "from tqdm import tqdm\n",
    "\n",
    "sia = SentimentIntensityAnalyzer()"
   ]
  },
  {
   "cell_type": "code",
   "execution_count": 35,
   "metadata": {},
   "outputs": [
    {
     "name": "stderr",
     "output_type": "stream",
     "text": [
      "  0%|          | 0/32076 [00:00<?, ?it/s]"
     ]
    },
    {
     "name": "stderr",
     "output_type": "stream",
     "text": [
      "100%|██████████| 32076/32076 [00:15<00:00, 2090.72it/s]\n"
     ]
    }
   ],
   "source": [
    "res = {}\n",
    "for i, row in tqdm(nlp_df.iterrows(),total = len(nlp_df)):\n",
    "    text = row[\"Text\"]\n",
    "    myid = row[\"Tweet Id\"]\n",
    "    temp = sia.polarity_scores(text)\n",
    "    if(temp[\"compound\"]>=0.05):\n",
    "        temp[\"sentiment\"]= \"Positive\"\n",
    "    elif(temp[\"compound\"]<=-0.05):\n",
    "        temp[\"sentiment\"]= \"Negative\"\n",
    "    else:\n",
    "        temp[\"sentiment\"]= \"Neutral\"\n",
    "    res[myid] =temp"
   ]
  },
  {
   "cell_type": "markdown",
   "metadata": {},
   "source": [
    "### Combining the seniment result with dataset"
   ]
  },
  {
   "cell_type": "code",
   "execution_count": 36,
   "metadata": {},
   "outputs": [
    {
     "data": {
      "text/html": [
       "<div>\n",
       "<style scoped>\n",
       "    .dataframe tbody tr th:only-of-type {\n",
       "        vertical-align: middle;\n",
       "    }\n",
       "\n",
       "    .dataframe tbody tr th {\n",
       "        vertical-align: top;\n",
       "    }\n",
       "\n",
       "    .dataframe thead th {\n",
       "        text-align: right;\n",
       "    }\n",
       "</style>\n",
       "<table border=\"1\" class=\"dataframe\">\n",
       "  <thead>\n",
       "    <tr style=\"text-align: right;\">\n",
       "      <th></th>\n",
       "      <th>Tweet Id</th>\n",
       "      <th>neg</th>\n",
       "      <th>neu</th>\n",
       "      <th>pos</th>\n",
       "      <th>compound</th>\n",
       "      <th>sentiment</th>\n",
       "      <th>Datetime</th>\n",
       "      <th>Text</th>\n",
       "      <th>Username</th>\n",
       "      <th>Permalink</th>\n",
       "      <th>...</th>\n",
       "      <th>Media</th>\n",
       "      <th>QuotedTweet</th>\n",
       "      <th>MentionedUsers</th>\n",
       "      <th>hashtag</th>\n",
       "      <th>hastag_counts</th>\n",
       "      <th>day</th>\n",
       "      <th>Word Tokenized</th>\n",
       "      <th>Stopword Removed</th>\n",
       "      <th>pos_tags</th>\n",
       "      <th>Word Stemmed</th>\n",
       "    </tr>\n",
       "  </thead>\n",
       "  <tbody>\n",
       "    <tr>\n",
       "      <th>0</th>\n",
       "      <td>1617156291046133761</td>\n",
       "      <td>0.0</td>\n",
       "      <td>0.814</td>\n",
       "      <td>0.186</td>\n",
       "      <td>0.4939</td>\n",
       "      <td>Positive</td>\n",
       "      <td>2023-01-22 13:44:39+00:00</td>\n",
       "      <td>@AlexandrovnaIng Prohibition of ChatGPT has be...</td>\n",
       "      <td>Caput_LupinumSG</td>\n",
       "      <td>https://twitter.com/Caput_LupinumSG/status/161...</td>\n",
       "      <td>...</td>\n",
       "      <td>NaN</td>\n",
       "      <td>NaN</td>\n",
       "      <td>[User(username='AlexandrovnaIng', id=282705900...</td>\n",
       "      <td>[]</td>\n",
       "      <td>0</td>\n",
       "      <td>22</td>\n",
       "      <td>[alexandrovnaing, prohibition, of, chatgpt, ha...</td>\n",
       "      <td>[alexandrovnaing, prohibition, chatgpt, added,...</td>\n",
       "      <td>[(alexandrovnaing, VBG), (prohibition, NN), (o...</td>\n",
       "      <td>[alexandrovna, prohibit, chatgpt, ad, honor, c...</td>\n",
       "    </tr>\n",
       "    <tr>\n",
       "      <th>1</th>\n",
       "      <td>1617156332297256961</td>\n",
       "      <td>0.0</td>\n",
       "      <td>1.0</td>\n",
       "      <td>0.0</td>\n",
       "      <td>0.0</td>\n",
       "      <td>Neutral</td>\n",
       "      <td>2023-01-22 13:44:49+00:00</td>\n",
       "      <td>Bow down to chatGPT 🫡..... https://t.co/ENTSzi...</td>\n",
       "      <td>Vishwasrisiri</td>\n",
       "      <td>https://twitter.com/Vishwasrisiri/status/16171...</td>\n",
       "      <td>...</td>\n",
       "      <td>NaN</td>\n",
       "      <td>https://twitter.com/agadmator/status/161715501...</td>\n",
       "      <td>NaN</td>\n",
       "      <td>[]</td>\n",
       "      <td>0</td>\n",
       "      <td>22</td>\n",
       "      <td>[bow, down, to, chatgpt, 🫡, https, tcoentszi2aq9]</td>\n",
       "      <td>[bow, chatgpt, tcoentszi2aq9]</td>\n",
       "      <td>[(bow, RB), (down, RB), (to, TO), (chatgpt, VB...</td>\n",
       "      <td>[bow, chatgpt, tcoentszi2aq9]</td>\n",
       "    </tr>\n",
       "    <tr>\n",
       "      <th>2</th>\n",
       "      <td>1617156389217894400</td>\n",
       "      <td>0.0</td>\n",
       "      <td>1.0</td>\n",
       "      <td>0.0</td>\n",
       "      <td>0.0</td>\n",
       "      <td>Neutral</td>\n",
       "      <td>2023-01-22 13:45:03+00:00</td>\n",
       "      <td>ChatGPT runs 10K Nvidia training GPUs with pot...</td>\n",
       "      <td>FierceElectron</td>\n",
       "      <td>https://twitter.com/FierceElectron/status/1617...</td>\n",
       "      <td>...</td>\n",
       "      <td>NaN</td>\n",
       "      <td>NaN</td>\n",
       "      <td>NaN</td>\n",
       "      <td>[]</td>\n",
       "      <td>0</td>\n",
       "      <td>22</td>\n",
       "      <td>[chatgpt, runs, 10k, nvidia, training, gpus, w...</td>\n",
       "      <td>[chatgpt, runs, 10k, nvidia, training, gpus, p...</td>\n",
       "      <td>[(chatgpt, NN), (runs, VBZ), (10k, CD), (nvidi...</td>\n",
       "      <td>[chatgpt, run, 10k, nvidia, train, gpu, potent...</td>\n",
       "    </tr>\n",
       "    <tr>\n",
       "      <th>3</th>\n",
       "      <td>1617156393898745858</td>\n",
       "      <td>0.067</td>\n",
       "      <td>0.933</td>\n",
       "      <td>0.0</td>\n",
       "      <td>-0.25</td>\n",
       "      <td>Negative</td>\n",
       "      <td>2023-01-22 13:45:04+00:00</td>\n",
       "      <td>@SWENGDAD There is repetitive work in every jo...</td>\n",
       "      <td>xlr8harder</td>\n",
       "      <td>https://twitter.com/xlr8harder/status/16171563...</td>\n",
       "      <td>...</td>\n",
       "      <td>NaN</td>\n",
       "      <td>NaN</td>\n",
       "      <td>[User(username='SWENGDAD', id=1460452950875193...</td>\n",
       "      <td>[]</td>\n",
       "      <td>0</td>\n",
       "      <td>22</td>\n",
       "      <td>[swengdad, there, is, repetitive, work, in, ev...</td>\n",
       "      <td>[swengdad, repetitive, work, every, job, lots,...</td>\n",
       "      <td>[(swengdad, NN), (there, EX), (is, VBZ), (repe...</td>\n",
       "      <td>[swengdad, repetit, work, everi, job, lot, sma...</td>\n",
       "    </tr>\n",
       "    <tr>\n",
       "      <th>4</th>\n",
       "      <td>1617156404137295878</td>\n",
       "      <td>0.0</td>\n",
       "      <td>0.846</td>\n",
       "      <td>0.154</td>\n",
       "      <td>0.25</td>\n",
       "      <td>Positive</td>\n",
       "      <td>2023-01-22 13:45:06+00:00</td>\n",
       "      <td>I created a fictional jewelry brand using Chat...</td>\n",
       "      <td>Kosuke_dazo</td>\n",
       "      <td>https://twitter.com/Kosuke_dazo/status/1617156...</td>\n",
       "      <td>...</td>\n",
       "      <td>[Photo(previewUrl='https://pbs.twimg.com/media...</td>\n",
       "      <td>NaN</td>\n",
       "      <td>NaN</td>\n",
       "      <td>['#ChatGPT', '#midjourney']</td>\n",
       "      <td>2</td>\n",
       "      <td>22</td>\n",
       "      <td>[i, created, a, fictional, jewelry, brand, usi...</td>\n",
       "      <td>[created, fictional, jewelry, brand, using, ch...</td>\n",
       "      <td>[(i, RB), (created, VBD), (a, DT), (fictional,...</td>\n",
       "      <td>[creat, fiction, jewelri, brand, use, chatgpt,...</td>\n",
       "    </tr>\n",
       "  </tbody>\n",
       "</table>\n",
       "<p>5 rows × 30 columns</p>\n",
       "</div>"
      ],
      "text/plain": [
       "              Tweet Id    neg    neu    pos compound sentiment  \\\n",
       "0  1617156291046133761    0.0  0.814  0.186   0.4939  Positive   \n",
       "1  1617156332297256961    0.0    1.0    0.0      0.0   Neutral   \n",
       "2  1617156389217894400    0.0    1.0    0.0      0.0   Neutral   \n",
       "3  1617156393898745858  0.067  0.933    0.0    -0.25  Negative   \n",
       "4  1617156404137295878    0.0  0.846  0.154     0.25  Positive   \n",
       "\n",
       "                   Datetime  \\\n",
       "0 2023-01-22 13:44:39+00:00   \n",
       "1 2023-01-22 13:44:49+00:00   \n",
       "2 2023-01-22 13:45:03+00:00   \n",
       "3 2023-01-22 13:45:04+00:00   \n",
       "4 2023-01-22 13:45:06+00:00   \n",
       "\n",
       "                                                Text         Username  \\\n",
       "0  @AlexandrovnaIng Prohibition of ChatGPT has be...  Caput_LupinumSG   \n",
       "1  Bow down to chatGPT 🫡..... https://t.co/ENTSzi...    Vishwasrisiri   \n",
       "2  ChatGPT runs 10K Nvidia training GPUs with pot...   FierceElectron   \n",
       "3  @SWENGDAD There is repetitive work in every jo...       xlr8harder   \n",
       "4  I created a fictional jewelry brand using Chat...      Kosuke_dazo   \n",
       "\n",
       "                                           Permalink  ...  \\\n",
       "0  https://twitter.com/Caput_LupinumSG/status/161...  ...   \n",
       "1  https://twitter.com/Vishwasrisiri/status/16171...  ...   \n",
       "2  https://twitter.com/FierceElectron/status/1617...  ...   \n",
       "3  https://twitter.com/xlr8harder/status/16171563...  ...   \n",
       "4  https://twitter.com/Kosuke_dazo/status/1617156...  ...   \n",
       "\n",
       "                                               Media  \\\n",
       "0                                                NaN   \n",
       "1                                                NaN   \n",
       "2                                                NaN   \n",
       "3                                                NaN   \n",
       "4  [Photo(previewUrl='https://pbs.twimg.com/media...   \n",
       "\n",
       "                                         QuotedTweet  \\\n",
       "0                                                NaN   \n",
       "1  https://twitter.com/agadmator/status/161715501...   \n",
       "2                                                NaN   \n",
       "3                                                NaN   \n",
       "4                                                NaN   \n",
       "\n",
       "                                      MentionedUsers  \\\n",
       "0  [User(username='AlexandrovnaIng', id=282705900...   \n",
       "1                                                NaN   \n",
       "2                                                NaN   \n",
       "3  [User(username='SWENGDAD', id=1460452950875193...   \n",
       "4                                                NaN   \n",
       "\n",
       "                       hashtag  hastag_counts  day  \\\n",
       "0                           []              0   22   \n",
       "1                           []              0   22   \n",
       "2                           []              0   22   \n",
       "3                           []              0   22   \n",
       "4  ['#ChatGPT', '#midjourney']              2   22   \n",
       "\n",
       "                                      Word Tokenized  \\\n",
       "0  [alexandrovnaing, prohibition, of, chatgpt, ha...   \n",
       "1  [bow, down, to, chatgpt, 🫡, https, tcoentszi2aq9]   \n",
       "2  [chatgpt, runs, 10k, nvidia, training, gpus, w...   \n",
       "3  [swengdad, there, is, repetitive, work, in, ev...   \n",
       "4  [i, created, a, fictional, jewelry, brand, usi...   \n",
       "\n",
       "                                    Stopword Removed  \\\n",
       "0  [alexandrovnaing, prohibition, chatgpt, added,...   \n",
       "1                      [bow, chatgpt, tcoentszi2aq9]   \n",
       "2  [chatgpt, runs, 10k, nvidia, training, gpus, p...   \n",
       "3  [swengdad, repetitive, work, every, job, lots,...   \n",
       "4  [created, fictional, jewelry, brand, using, ch...   \n",
       "\n",
       "                                            pos_tags  \\\n",
       "0  [(alexandrovnaing, VBG), (prohibition, NN), (o...   \n",
       "1  [(bow, RB), (down, RB), (to, TO), (chatgpt, VB...   \n",
       "2  [(chatgpt, NN), (runs, VBZ), (10k, CD), (nvidi...   \n",
       "3  [(swengdad, NN), (there, EX), (is, VBZ), (repe...   \n",
       "4  [(i, RB), (created, VBD), (a, DT), (fictional,...   \n",
       "\n",
       "                                        Word Stemmed  \n",
       "0  [alexandrovna, prohibit, chatgpt, ad, honor, c...  \n",
       "1                      [bow, chatgpt, tcoentszi2aq9]  \n",
       "2  [chatgpt, run, 10k, nvidia, train, gpu, potent...  \n",
       "3  [swengdad, repetit, work, everi, job, lot, sma...  \n",
       "4  [creat, fiction, jewelri, brand, use, chatgpt,...  \n",
       "\n",
       "[5 rows x 30 columns]"
      ]
     },
     "execution_count": 36,
     "metadata": {},
     "output_type": "execute_result"
    }
   ],
   "source": [
    "vaders = pd.DataFrame(res).T\n",
    "vaders = vaders.reset_index().rename(columns={'index':'Tweet Id'})\n",
    "vadersResult=vaders.merge(nlp_df,how='left')\n",
    "vadersResult.head(5)"
   ]
  },
  {
   "cell_type": "code",
   "execution_count": 60,
   "metadata": {},
   "outputs": [],
   "source": [
    "# save csvfile\n",
    "vadersResult.to_csv(\"vadersResult.csv\",index=False)"
   ]
  },
  {
   "cell_type": "markdown",
   "metadata": {},
   "source": [
    "### Number of count with the sentiment label in Vader method"
   ]
  },
  {
   "cell_type": "code",
   "execution_count": 62,
   "metadata": {},
   "outputs": [
    {
     "data": {
      "image/png": "[encoded data removed]",
      "text/plain": [
       "<Figure size 864x648 with 1 Axes>"
      ]
     },
     "metadata": {
      "needs_background": "light"
     },
     "output_type": "display_data"
    }
   ],
   "source": [
    "plt.figure(figsize=(12,9))\n",
    "sns.countplot(x=\"sentiment\",data=vadersResult,order=['Positive', 'Neutral', 'Negative'])\n",
    "plt.savefig('fig3.png')\n",
    "plt.show()"
   ]
  },
  {
   "cell_type": "code",
   "execution_count": 102,
   "metadata": {},
   "outputs": [
    {
     "data": {
      "text/plain": [
       "Positive    14825\n",
       "Neutral     11523\n",
       "Negative     5728\n",
       "Name: sentiment, dtype: int64"
      ]
     },
     "execution_count": 102,
     "metadata": {},
     "output_type": "execute_result"
    }
   ],
   "source": [
    "vadersResult[\"sentiment\"].value_counts()"
   ]
  },
  {
   "cell_type": "markdown",
   "metadata": {},
   "source": [
    "### Top 10 Mentioned Tokens in Positive tweets in Vader method"
   ]
  },
  {
   "cell_type": "code",
   "execution_count": 40,
   "metadata": {},
   "outputs": [
    {
     "data": {
      "text/html": [
       "<div>\n",
       "<style scoped>\n",
       "    .dataframe tbody tr th:only-of-type {\n",
       "        vertical-align: middle;\n",
       "    }\n",
       "\n",
       "    .dataframe tbody tr th {\n",
       "        vertical-align: top;\n",
       "    }\n",
       "\n",
       "    .dataframe thead th {\n",
       "        text-align: right;\n",
       "    }\n",
       "</style>\n",
       "<table border=\"1\" class=\"dataframe\">\n",
       "  <thead>\n",
       "    <tr style=\"text-align: right;\">\n",
       "      <th></th>\n",
       "      <th>Word</th>\n",
       "      <th>Frequency</th>\n",
       "    </tr>\n",
       "  </thead>\n",
       "  <tbody>\n",
       "    <tr>\n",
       "      <th>0</th>\n",
       "      <td>chatgpt</td>\n",
       "      <td>15419</td>\n",
       "    </tr>\n",
       "    <tr>\n",
       "      <th>1</th>\n",
       "      <td>like</td>\n",
       "      <td>2161</td>\n",
       "    </tr>\n",
       "    <tr>\n",
       "      <th>2</th>\n",
       "      <td>openai</td>\n",
       "      <td>1755</td>\n",
       "    </tr>\n",
       "    <tr>\n",
       "      <th>3</th>\n",
       "      <td>use</td>\n",
       "      <td>1290</td>\n",
       "    </tr>\n",
       "    <tr>\n",
       "      <th>4</th>\n",
       "      <td>chat</td>\n",
       "      <td>1195</td>\n",
       "    </tr>\n",
       "    <tr>\n",
       "      <th>5</th>\n",
       "      <td>gpt</td>\n",
       "      <td>1163</td>\n",
       "    </tr>\n",
       "    <tr>\n",
       "      <th>6</th>\n",
       "      <td>microsoft</td>\n",
       "      <td>1075</td>\n",
       "    </tr>\n",
       "    <tr>\n",
       "      <th>7</th>\n",
       "      <td>using</td>\n",
       "      <td>934</td>\n",
       "    </tr>\n",
       "    <tr>\n",
       "      <th>8</th>\n",
       "      <td>google</td>\n",
       "      <td>842</td>\n",
       "    </tr>\n",
       "    <tr>\n",
       "      <th>9</th>\n",
       "      <td>write</td>\n",
       "      <td>814</td>\n",
       "    </tr>\n",
       "  </tbody>\n",
       "</table>\n",
       "</div>"
      ],
      "text/plain": [
       "        Word  Frequency\n",
       "0    chatgpt      15419\n",
       "1       like       2161\n",
       "2     openai       1755\n",
       "3        use       1290\n",
       "4       chat       1195\n",
       "5        gpt       1163\n",
       "6  microsoft       1075\n",
       "7      using        934\n",
       "8     google        842\n",
       "9      write        814"
      ]
     },
     "execution_count": 40,
     "metadata": {},
     "output_type": "execute_result"
    }
   ],
   "source": [
    "# pos_tweets = vadersResult[vadersResult[\"sentiment\"]==\"Positive\"]\n",
    "# all_words = \"\".join(sentence for sentence in pos_tweets[\"Text\"])\n",
    "# word_counts = calcuate_word_frequency(all_words)\n",
    "# display_word_frequency_table(word_counts.most_common()[:30])\n",
    "\n",
    "pos_tweets = vadersResult[vadersResult[\"sentiment\"]==\"Positive\"]\n",
    "all_tokens = [token for sublist in pos_tweets['Stopword Removed'] for token in sublist]\n",
    "token_counts = Counter(all_tokens)\n",
    "top_10_tokens = token_counts.most_common(10)\n",
    "\n",
    "temp_table= pd.DataFrame(top_10_tokens, columns =['Word', 'Frequency'])\n",
    "temp_table"
   ]
  },
  {
   "cell_type": "markdown",
   "metadata": {},
   "source": [
    "### Top 10 Mentioned Tokens in Negative tweets in Vader method"
   ]
  },
  {
   "cell_type": "code",
   "execution_count": 41,
   "metadata": {},
   "outputs": [
    {
     "data": {
      "text/html": [
       "<div>\n",
       "<style scoped>\n",
       "    .dataframe tbody tr th:only-of-type {\n",
       "        vertical-align: middle;\n",
       "    }\n",
       "\n",
       "    .dataframe tbody tr th {\n",
       "        vertical-align: top;\n",
       "    }\n",
       "\n",
       "    .dataframe thead th {\n",
       "        text-align: right;\n",
       "    }\n",
       "</style>\n",
       "<table border=\"1\" class=\"dataframe\">\n",
       "  <thead>\n",
       "    <tr style=\"text-align: right;\">\n",
       "      <th></th>\n",
       "      <th>Word</th>\n",
       "      <th>Frequency</th>\n",
       "    </tr>\n",
       "  </thead>\n",
       "  <tbody>\n",
       "    <tr>\n",
       "      <th>0</th>\n",
       "      <td>chatgpt</td>\n",
       "      <td>5832</td>\n",
       "    </tr>\n",
       "    <tr>\n",
       "      <th>1</th>\n",
       "      <td>google</td>\n",
       "      <td>540</td>\n",
       "    </tr>\n",
       "    <tr>\n",
       "      <th>2</th>\n",
       "      <td>chat</td>\n",
       "      <td>445</td>\n",
       "    </tr>\n",
       "    <tr>\n",
       "      <th>3</th>\n",
       "      <td>gpt</td>\n",
       "      <td>419</td>\n",
       "    </tr>\n",
       "    <tr>\n",
       "      <th>4</th>\n",
       "      <td>use</td>\n",
       "      <td>407</td>\n",
       "    </tr>\n",
       "    <tr>\n",
       "      <th>5</th>\n",
       "      <td>openai</td>\n",
       "      <td>398</td>\n",
       "    </tr>\n",
       "    <tr>\n",
       "      <th>6</th>\n",
       "      <td>people</td>\n",
       "      <td>332</td>\n",
       "    </tr>\n",
       "    <tr>\n",
       "      <th>7</th>\n",
       "      <td>like</td>\n",
       "      <td>325</td>\n",
       "    </tr>\n",
       "    <tr>\n",
       "      <th>8</th>\n",
       "      <td>one</td>\n",
       "      <td>304</td>\n",
       "    </tr>\n",
       "    <tr>\n",
       "      <th>9</th>\n",
       "      <td>using</td>\n",
       "      <td>298</td>\n",
       "    </tr>\n",
       "  </tbody>\n",
       "</table>\n",
       "</div>"
      ],
      "text/plain": [
       "      Word  Frequency\n",
       "0  chatgpt       5832\n",
       "1   google        540\n",
       "2     chat        445\n",
       "3      gpt        419\n",
       "4      use        407\n",
       "5   openai        398\n",
       "6   people        332\n",
       "7     like        325\n",
       "8      one        304\n",
       "9    using        298"
      ]
     },
     "execution_count": 41,
     "metadata": {},
     "output_type": "execute_result"
    }
   ],
   "source": [
    "# neg_tweets = vadersResult[vadersResult[\"sentiment\"]==\"Negative\"]\n",
    "# all_words = \"\".join(sentence for sentence in neg_tweets[\"Text\"])\n",
    "# word_counts = calcuate_word_frequency(all_words)\n",
    "# display_word_frequency_table(word_counts.most_common()[:30])\n",
    "\n",
    "neg_tweets = vadersResult[vadersResult[\"sentiment\"]==\"Negative\"]\n",
    "all_tokens = [token for sublist in neg_tweets['Stopword Removed'] for token in sublist]\n",
    "token_counts = Counter(all_tokens)\n",
    "top_10_tokens = token_counts.most_common(10)\n",
    "\n",
    "temp_table= pd.DataFrame(top_10_tokens, columns =['Word', 'Frequency'])\n",
    "temp_table"
   ]
  },
  {
   "cell_type": "markdown",
   "metadata": {},
   "source": [
    "### Top 10 Mentioned Tokens in Neutral tweets in Vader method"
   ]
  },
  {
   "cell_type": "code",
   "execution_count": 42,
   "metadata": {},
   "outputs": [
    {
     "data": {
      "text/html": [
       "<div>\n",
       "<style scoped>\n",
       "    .dataframe tbody tr th:only-of-type {\n",
       "        vertical-align: middle;\n",
       "    }\n",
       "\n",
       "    .dataframe tbody tr th {\n",
       "        vertical-align: top;\n",
       "    }\n",
       "\n",
       "    .dataframe thead th {\n",
       "        text-align: right;\n",
       "    }\n",
       "</style>\n",
       "<table border=\"1\" class=\"dataframe\">\n",
       "  <thead>\n",
       "    <tr style=\"text-align: right;\">\n",
       "      <th></th>\n",
       "      <th>Word</th>\n",
       "      <th>Frequency</th>\n",
       "    </tr>\n",
       "  </thead>\n",
       "  <tbody>\n",
       "    <tr>\n",
       "      <th>0</th>\n",
       "      <td>chatgpt</td>\n",
       "      <td>11056</td>\n",
       "    </tr>\n",
       "    <tr>\n",
       "      <th>1</th>\n",
       "      <td>openai</td>\n",
       "      <td>1705</td>\n",
       "    </tr>\n",
       "    <tr>\n",
       "      <th>2</th>\n",
       "      <td>microsoft</td>\n",
       "      <td>1456</td>\n",
       "    </tr>\n",
       "    <tr>\n",
       "      <th>3</th>\n",
       "      <td>chat</td>\n",
       "      <td>1020</td>\n",
       "    </tr>\n",
       "    <tr>\n",
       "      <th>4</th>\n",
       "      <td>gpt</td>\n",
       "      <td>996</td>\n",
       "    </tr>\n",
       "    <tr>\n",
       "      <th>5</th>\n",
       "      <td>google</td>\n",
       "      <td>662</td>\n",
       "    </tr>\n",
       "    <tr>\n",
       "      <th>6</th>\n",
       "      <td>use</td>\n",
       "      <td>643</td>\n",
       "    </tr>\n",
       "    <tr>\n",
       "      <th>7</th>\n",
       "      <td>via</td>\n",
       "      <td>541</td>\n",
       "    </tr>\n",
       "    <tr>\n",
       "      <th>8</th>\n",
       "      <td>investment</td>\n",
       "      <td>526</td>\n",
       "    </tr>\n",
       "    <tr>\n",
       "      <th>9</th>\n",
       "      <td>using</td>\n",
       "      <td>496</td>\n",
       "    </tr>\n",
       "  </tbody>\n",
       "</table>\n",
       "</div>"
      ],
      "text/plain": [
       "         Word  Frequency\n",
       "0     chatgpt      11056\n",
       "1      openai       1705\n",
       "2   microsoft       1456\n",
       "3        chat       1020\n",
       "4         gpt        996\n",
       "5      google        662\n",
       "6         use        643\n",
       "7         via        541\n",
       "8  investment        526\n",
       "9       using        496"
      ]
     },
     "execution_count": 42,
     "metadata": {},
     "output_type": "execute_result"
    }
   ],
   "source": [
    "# neu_tweets = vadersResult[vadersResult[\"sentiment\"]==\"Positive\"]\n",
    "# all_words = \"\".join(sentence for sentence in pos_tweets[\"Text\"])\n",
    "# word_counts = calcuate_word_frequency(all_words)\n",
    "# display_word_frequency_table(word_counts.most_common()[:30])\n",
    "\n",
    "neu_tweets = vadersResult[vadersResult[\"sentiment\"]==\"Neutral\"]\n",
    "all_tokens = [token for sublist in neu_tweets['Stopword Removed'] for token in sublist]\n",
    "token_counts = Counter(all_tokens)\n",
    "top_10_tokens = token_counts.most_common(10)\n",
    "\n",
    "temp_table= pd.DataFrame(top_10_tokens, columns =['Word', 'Frequency'])\n",
    "temp_table"
   ]
  },
  {
   "attachments": {},
   "cell_type": "markdown",
   "metadata": {},
   "source": [
    "# Roberta Pretrained Model"
   ]
  },
  {
   "cell_type": "code",
   "execution_count": 43,
   "metadata": {},
   "outputs": [],
   "source": [
    "from transformers import AutoTokenizer\n",
    "from transformers import AutoModelForSequenceClassification\n",
    "from scipy.special import softmax"
   ]
  },
  {
   "cell_type": "code",
   "execution_count": 44,
   "metadata": {},
   "outputs": [],
   "source": [
    "MODEL = f\"cardiffnlp/twitter-roberta-base-sentiment\"\n",
    "tokenizer = AutoTokenizer.from_pretrained(MODEL)\n",
    "model = AutoModelForSequenceClassification.from_pretrained(MODEL)"
   ]
  },
  {
   "cell_type": "code",
   "execution_count": 71,
   "metadata": {},
   "outputs": [
    {
     "name": "stdout",
     "output_type": "stream",
     "text": [
      "{'roberta_neg': 0.008655095, 'roberta_neu': 0.56082135, 'roberta_pos': 0.4305236}\n"
     ]
    }
   ],
   "source": [
    "example = df[\"Text\"][1]\n",
    "encoded_text = tokenizer(example, return_tensors='pt')\n",
    "output = model(**encoded_text)\n",
    "scores = output[0][0].detach().numpy()\n",
    "scores = softmax(scores)\n",
    "scores_dict = {\n",
    "    'roberta_neg' : scores[0],\n",
    "    'roberta_neu' : scores[1],\n",
    "    'roberta_pos' : scores[2]\n",
    "}\n",
    "print(scores_dict)\n",
    "# unknown lanuage\n",
    "# df[\"Text\"][14894]"
   ]
  },
  {
   "cell_type": "code",
   "execution_count": 45,
   "metadata": {},
   "outputs": [
    {
     "name": "stderr",
     "output_type": "stream",
     "text": [
      " 64%|██████▍   | 32076/50001 [57:16<32:00,  9.33it/s]  \n"
     ]
    }
   ],
   "source": [
    "res2= {}\n",
    "for i, row in tqdm(nlp_df.iterrows(),total = len(df)):\n",
    "    try:\n",
    "        text = row[\"Text\"]\n",
    "        myid = row[\"Tweet Id\"]\n",
    "        encoded_text = tokenizer(text, return_tensors='pt')\n",
    "        output = model(**encoded_text)\n",
    "        scores = output[0][0].detach().numpy()\n",
    "        scores = softmax(scores)\n",
    "        scores_dict = {\n",
    "            'roberta_neg' : scores[0],\n",
    "            'roberta_neu' : scores[1],\n",
    "            'roberta_pos' : scores[2]\n",
    "            }\n",
    "        res2[myid] = scores_dict\n",
    "        temp = scores_dict\n",
    "        largestvalue = max(temp, key=temp.get)\n",
    "        if(largestvalue==\"roberta_pos\"):\n",
    "            temp[\"sentiment\"]= \"Positive\"\n",
    "        elif(largestvalue==\"roberta_neg\"):\n",
    "            temp[\"sentiment\"]= \"Negative\"\n",
    "        else:\n",
    "            temp[\"sentiment\"]= \"Neutral\"\n",
    "        res2[myid] =temp\n",
    "    except Exception as e:\n",
    "        # Handle the crash\n",
    "        print(f\"Encountered a crash: {e}\")\n",
    "        continue"
   ]
  },
  {
   "cell_type": "code",
   "execution_count": 46,
   "metadata": {},
   "outputs": [
    {
     "data": {
      "text/html": [
       "<div>\n",
       "<style scoped>\n",
       "    .dataframe tbody tr th:only-of-type {\n",
       "        vertical-align: middle;\n",
       "    }\n",
       "\n",
       "    .dataframe tbody tr th {\n",
       "        vertical-align: top;\n",
       "    }\n",
       "\n",
       "    .dataframe thead th {\n",
       "        text-align: right;\n",
       "    }\n",
       "</style>\n",
       "<table border=\"1\" class=\"dataframe\">\n",
       "  <thead>\n",
       "    <tr style=\"text-align: right;\">\n",
       "      <th></th>\n",
       "      <th>Tweet Id</th>\n",
       "      <th>roberta_neg</th>\n",
       "      <th>roberta_neu</th>\n",
       "      <th>roberta_pos</th>\n",
       "      <th>sentiment</th>\n",
       "      <th>Datetime</th>\n",
       "      <th>Text</th>\n",
       "      <th>Username</th>\n",
       "      <th>Permalink</th>\n",
       "      <th>User</th>\n",
       "      <th>...</th>\n",
       "      <th>Media</th>\n",
       "      <th>QuotedTweet</th>\n",
       "      <th>MentionedUsers</th>\n",
       "      <th>hashtag</th>\n",
       "      <th>hastag_counts</th>\n",
       "      <th>day</th>\n",
       "      <th>Word Tokenized</th>\n",
       "      <th>Stopword Removed</th>\n",
       "      <th>pos_tags</th>\n",
       "      <th>Word Stemmed</th>\n",
       "    </tr>\n",
       "  </thead>\n",
       "  <tbody>\n",
       "    <tr>\n",
       "      <th>0</th>\n",
       "      <td>1617156291046133761</td>\n",
       "      <td>0.008655</td>\n",
       "      <td>0.560821</td>\n",
       "      <td>0.430524</td>\n",
       "      <td>Neutral</td>\n",
       "      <td>2023-01-22 13:44:39+00:00</td>\n",
       "      <td>@AlexandrovnaIng Prohibition of ChatGPT has be...</td>\n",
       "      <td>Caput_LupinumSG</td>\n",
       "      <td>https://twitter.com/Caput_LupinumSG/status/161...</td>\n",
       "      <td>https://twitter.com/Caput_LupinumSG</td>\n",
       "      <td>...</td>\n",
       "      <td>NaN</td>\n",
       "      <td>NaN</td>\n",
       "      <td>[User(username='AlexandrovnaIng', id=282705900...</td>\n",
       "      <td>[]</td>\n",
       "      <td>0</td>\n",
       "      <td>22</td>\n",
       "      <td>[alexandrovnaing, prohibition, of, chatgpt, ha...</td>\n",
       "      <td>[alexandrovnaing, prohibition, chatgpt, added,...</td>\n",
       "      <td>[(alexandrovnaing, VBG), (prohibition, NN), (o...</td>\n",
       "      <td>[alexandrovna, prohibit, chatgpt, ad, honor, c...</td>\n",
       "    </tr>\n",
       "    <tr>\n",
       "      <th>1</th>\n",
       "      <td>1617156332297256961</td>\n",
       "      <td>0.048818</td>\n",
       "      <td>0.895561</td>\n",
       "      <td>0.055621</td>\n",
       "      <td>Neutral</td>\n",
       "      <td>2023-01-22 13:44:49+00:00</td>\n",
       "      <td>Bow down to chatGPT 🫡..... https://t.co/ENTSzi...</td>\n",
       "      <td>Vishwasrisiri</td>\n",
       "      <td>https://twitter.com/Vishwasrisiri/status/16171...</td>\n",
       "      <td>https://twitter.com/Vishwasrisiri</td>\n",
       "      <td>...</td>\n",
       "      <td>NaN</td>\n",
       "      <td>https://twitter.com/agadmator/status/161715501...</td>\n",
       "      <td>NaN</td>\n",
       "      <td>[]</td>\n",
       "      <td>0</td>\n",
       "      <td>22</td>\n",
       "      <td>[bow, down, to, chatgpt, 🫡, https, tcoentszi2aq9]</td>\n",
       "      <td>[bow, chatgpt, tcoentszi2aq9]</td>\n",
       "      <td>[(bow, RB), (down, RB), (to, TO), (chatgpt, VB...</td>\n",
       "      <td>[bow, chatgpt, tcoentszi2aq9]</td>\n",
       "    </tr>\n",
       "    <tr>\n",
       "      <th>2</th>\n",
       "      <td>1617156389217894400</td>\n",
       "      <td>0.004709</td>\n",
       "      <td>0.617854</td>\n",
       "      <td>0.377437</td>\n",
       "      <td>Neutral</td>\n",
       "      <td>2023-01-22 13:45:03+00:00</td>\n",
       "      <td>ChatGPT runs 10K Nvidia training GPUs with pot...</td>\n",
       "      <td>FierceElectron</td>\n",
       "      <td>https://twitter.com/FierceElectron/status/1617...</td>\n",
       "      <td>https://twitter.com/FierceElectron</td>\n",
       "      <td>...</td>\n",
       "      <td>NaN</td>\n",
       "      <td>NaN</td>\n",
       "      <td>NaN</td>\n",
       "      <td>[]</td>\n",
       "      <td>0</td>\n",
       "      <td>22</td>\n",
       "      <td>[chatgpt, runs, 10k, nvidia, training, gpus, w...</td>\n",
       "      <td>[chatgpt, runs, 10k, nvidia, training, gpus, p...</td>\n",
       "      <td>[(chatgpt, NN), (runs, VBZ), (10k, CD), (nvidi...</td>\n",
       "      <td>[chatgpt, run, 10k, nvidia, train, gpu, potent...</td>\n",
       "    </tr>\n",
       "    <tr>\n",
       "      <th>3</th>\n",
       "      <td>1617156393898745858</td>\n",
       "      <td>0.014811</td>\n",
       "      <td>0.331287</td>\n",
       "      <td>0.653902</td>\n",
       "      <td>Positive</td>\n",
       "      <td>2023-01-22 13:45:04+00:00</td>\n",
       "      <td>@SWENGDAD There is repetitive work in every jo...</td>\n",
       "      <td>xlr8harder</td>\n",
       "      <td>https://twitter.com/xlr8harder/status/16171563...</td>\n",
       "      <td>https://twitter.com/xlr8harder</td>\n",
       "      <td>...</td>\n",
       "      <td>NaN</td>\n",
       "      <td>NaN</td>\n",
       "      <td>[User(username='SWENGDAD', id=1460452950875193...</td>\n",
       "      <td>[]</td>\n",
       "      <td>0</td>\n",
       "      <td>22</td>\n",
       "      <td>[swengdad, there, is, repetitive, work, in, ev...</td>\n",
       "      <td>[swengdad, repetitive, work, every, job, lots,...</td>\n",
       "      <td>[(swengdad, NN), (there, EX), (is, VBZ), (repe...</td>\n",
       "      <td>[swengdad, repetit, work, everi, job, lot, sma...</td>\n",
       "    </tr>\n",
       "    <tr>\n",
       "      <th>4</th>\n",
       "      <td>1617156404137295878</td>\n",
       "      <td>0.026949</td>\n",
       "      <td>0.885862</td>\n",
       "      <td>0.087189</td>\n",
       "      <td>Neutral</td>\n",
       "      <td>2023-01-22 13:45:06+00:00</td>\n",
       "      <td>I created a fictional jewelry brand using Chat...</td>\n",
       "      <td>Kosuke_dazo</td>\n",
       "      <td>https://twitter.com/Kosuke_dazo/status/1617156...</td>\n",
       "      <td>https://twitter.com/Kosuke_dazo</td>\n",
       "      <td>...</td>\n",
       "      <td>[Photo(previewUrl='https://pbs.twimg.com/media...</td>\n",
       "      <td>NaN</td>\n",
       "      <td>NaN</td>\n",
       "      <td>['#ChatGPT', '#midjourney']</td>\n",
       "      <td>2</td>\n",
       "      <td>22</td>\n",
       "      <td>[i, created, a, fictional, jewelry, brand, usi...</td>\n",
       "      <td>[created, fictional, jewelry, brand, using, ch...</td>\n",
       "      <td>[(i, RB), (created, VBD), (a, DT), (fictional,...</td>\n",
       "      <td>[creat, fiction, jewelri, brand, use, chatgpt,...</td>\n",
       "    </tr>\n",
       "  </tbody>\n",
       "</table>\n",
       "<p>5 rows × 29 columns</p>\n",
       "</div>"
      ],
      "text/plain": [
       "              Tweet Id roberta_neg roberta_neu roberta_pos sentiment  \\\n",
       "0  1617156291046133761    0.008655    0.560821    0.430524   Neutral   \n",
       "1  1617156332297256961    0.048818    0.895561    0.055621   Neutral   \n",
       "2  1617156389217894400    0.004709    0.617854    0.377437   Neutral   \n",
       "3  1617156393898745858    0.014811    0.331287    0.653902  Positive   \n",
       "4  1617156404137295878    0.026949    0.885862    0.087189   Neutral   \n",
       "\n",
       "                   Datetime  \\\n",
       "0 2023-01-22 13:44:39+00:00   \n",
       "1 2023-01-22 13:44:49+00:00   \n",
       "2 2023-01-22 13:45:03+00:00   \n",
       "3 2023-01-22 13:45:04+00:00   \n",
       "4 2023-01-22 13:45:06+00:00   \n",
       "\n",
       "                                                Text         Username  \\\n",
       "0  @AlexandrovnaIng Prohibition of ChatGPT has be...  Caput_LupinumSG   \n",
       "1  Bow down to chatGPT 🫡..... https://t.co/ENTSzi...    Vishwasrisiri   \n",
       "2  ChatGPT runs 10K Nvidia training GPUs with pot...   FierceElectron   \n",
       "3  @SWENGDAD There is repetitive work in every jo...       xlr8harder   \n",
       "4  I created a fictional jewelry brand using Chat...      Kosuke_dazo   \n",
       "\n",
       "                                           Permalink  \\\n",
       "0  https://twitter.com/Caput_LupinumSG/status/161...   \n",
       "1  https://twitter.com/Vishwasrisiri/status/16171...   \n",
       "2  https://twitter.com/FierceElectron/status/1617...   \n",
       "3  https://twitter.com/xlr8harder/status/16171563...   \n",
       "4  https://twitter.com/Kosuke_dazo/status/1617156...   \n",
       "\n",
       "                                  User  ...  \\\n",
       "0  https://twitter.com/Caput_LupinumSG  ...   \n",
       "1    https://twitter.com/Vishwasrisiri  ...   \n",
       "2   https://twitter.com/FierceElectron  ...   \n",
       "3       https://twitter.com/xlr8harder  ...   \n",
       "4      https://twitter.com/Kosuke_dazo  ...   \n",
       "\n",
       "                                               Media  \\\n",
       "0                                                NaN   \n",
       "1                                                NaN   \n",
       "2                                                NaN   \n",
       "3                                                NaN   \n",
       "4  [Photo(previewUrl='https://pbs.twimg.com/media...   \n",
       "\n",
       "                                         QuotedTweet  \\\n",
       "0                                                NaN   \n",
       "1  https://twitter.com/agadmator/status/161715501...   \n",
       "2                                                NaN   \n",
       "3                                                NaN   \n",
       "4                                                NaN   \n",
       "\n",
       "                                      MentionedUsers  \\\n",
       "0  [User(username='AlexandrovnaIng', id=282705900...   \n",
       "1                                                NaN   \n",
       "2                                                NaN   \n",
       "3  [User(username='SWENGDAD', id=1460452950875193...   \n",
       "4                                                NaN   \n",
       "\n",
       "                       hashtag  hastag_counts  day  \\\n",
       "0                           []              0   22   \n",
       "1                           []              0   22   \n",
       "2                           []              0   22   \n",
       "3                           []              0   22   \n",
       "4  ['#ChatGPT', '#midjourney']              2   22   \n",
       "\n",
       "                                      Word Tokenized  \\\n",
       "0  [alexandrovnaing, prohibition, of, chatgpt, ha...   \n",
       "1  [bow, down, to, chatgpt, 🫡, https, tcoentszi2aq9]   \n",
       "2  [chatgpt, runs, 10k, nvidia, training, gpus, w...   \n",
       "3  [swengdad, there, is, repetitive, work, in, ev...   \n",
       "4  [i, created, a, fictional, jewelry, brand, usi...   \n",
       "\n",
       "                                    Stopword Removed  \\\n",
       "0  [alexandrovnaing, prohibition, chatgpt, added,...   \n",
       "1                      [bow, chatgpt, tcoentszi2aq9]   \n",
       "2  [chatgpt, runs, 10k, nvidia, training, gpus, p...   \n",
       "3  [swengdad, repetitive, work, every, job, lots,...   \n",
       "4  [created, fictional, jewelry, brand, using, ch...   \n",
       "\n",
       "                                            pos_tags  \\\n",
       "0  [(alexandrovnaing, VBG), (prohibition, NN), (o...   \n",
       "1  [(bow, RB), (down, RB), (to, TO), (chatgpt, VB...   \n",
       "2  [(chatgpt, NN), (runs, VBZ), (10k, CD), (nvidi...   \n",
       "3  [(swengdad, NN), (there, EX), (is, VBZ), (repe...   \n",
       "4  [(i, RB), (created, VBD), (a, DT), (fictional,...   \n",
       "\n",
       "                                        Word Stemmed  \n",
       "0  [alexandrovna, prohibit, chatgpt, ad, honor, c...  \n",
       "1                      [bow, chatgpt, tcoentszi2aq9]  \n",
       "2  [chatgpt, run, 10k, nvidia, train, gpu, potent...  \n",
       "3  [swengdad, repetit, work, everi, job, lot, sma...  \n",
       "4  [creat, fiction, jewelri, brand, use, chatgpt,...  \n",
       "\n",
       "[5 rows x 29 columns]"
      ]
     },
     "execution_count": 46,
     "metadata": {},
     "output_type": "execute_result"
    }
   ],
   "source": [
    "roberta = pd.DataFrame(res2).T\n",
    "roberta = roberta.reset_index().rename(columns={'index':'Tweet Id'})\n",
    "robertaResult = roberta.merge(nlp_df,how='right')\n",
    "robertaResult.head(5)"
   ]
  },
  {
   "cell_type": "code",
   "execution_count": 47,
   "metadata": {},
   "outputs": [],
   "source": [
    "robertaResult.to_csv(\"robertaResult.csv\",index=False)"
   ]
  },
  {
   "cell_type": "markdown",
   "metadata": {},
   "source": [
    "### Number of counts with the sentiment label (using RoBERTa model) in whole dataset\n"
   ]
  },
  {
   "cell_type": "code",
   "execution_count": 63,
   "metadata": {},
   "outputs": [
    {
     "data": {
      "image/png": "[encoded data removed]",
      "text/plain": [
       "<Figure size 864x648 with 1 Axes>"
      ]
     },
     "metadata": {
      "needs_background": "light"
     },
     "output_type": "display_data"
    }
   ],
   "source": [
    "plt.figure(figsize=(12,9))\n",
    "sns.countplot(x=\"sentiment\",data=robertaResult,order=['Positive', 'Neutral', 'Negative'])\n",
    "plt.savefig('fig4.png')\n",
    "plt.show()"
   ]
  },
  {
   "cell_type": "code",
   "execution_count": 103,
   "metadata": {},
   "outputs": [
    {
     "data": {
      "text/plain": [
       "Neutral     17396\n",
       "Positive     9251\n",
       "Negative     5429\n",
       "Name: sentiment, dtype: int64"
      ]
     },
     "execution_count": 103,
     "metadata": {},
     "output_type": "execute_result"
    }
   ],
   "source": [
    "robertaResult[\"sentiment\"].value_counts()"
   ]
  },
  {
   "cell_type": "markdown",
   "metadata": {},
   "source": [
    "### Top 10 Mentioned Tokens in Positive tweets in Roberta model"
   ]
  },
  {
   "cell_type": "code",
   "execution_count": 50,
   "metadata": {},
   "outputs": [
    {
     "data": {
      "text/html": [
       "<div>\n",
       "<style scoped>\n",
       "    .dataframe tbody tr th:only-of-type {\n",
       "        vertical-align: middle;\n",
       "    }\n",
       "\n",
       "    .dataframe tbody tr th {\n",
       "        vertical-align: top;\n",
       "    }\n",
       "\n",
       "    .dataframe thead th {\n",
       "        text-align: right;\n",
       "    }\n",
       "</style>\n",
       "<table border=\"1\" class=\"dataframe\">\n",
       "  <thead>\n",
       "    <tr style=\"text-align: right;\">\n",
       "      <th></th>\n",
       "      <th>Word</th>\n",
       "      <th>Frequency</th>\n",
       "    </tr>\n",
       "  </thead>\n",
       "  <tbody>\n",
       "    <tr>\n",
       "      <th>0</th>\n",
       "      <td>chatgpt</td>\n",
       "      <td>9634</td>\n",
       "    </tr>\n",
       "    <tr>\n",
       "      <th>1</th>\n",
       "      <td>openai</td>\n",
       "      <td>1760</td>\n",
       "    </tr>\n",
       "    <tr>\n",
       "      <th>2</th>\n",
       "      <td>microsoft</td>\n",
       "      <td>1344</td>\n",
       "    </tr>\n",
       "    <tr>\n",
       "      <th>3</th>\n",
       "      <td>like</td>\n",
       "      <td>804</td>\n",
       "    </tr>\n",
       "    <tr>\n",
       "      <th>4</th>\n",
       "      <td>new</td>\n",
       "      <td>740</td>\n",
       "    </tr>\n",
       "    <tr>\n",
       "      <th>5</th>\n",
       "      <td>use</td>\n",
       "      <td>732</td>\n",
       "    </tr>\n",
       "    <tr>\n",
       "      <th>6</th>\n",
       "      <td>chat</td>\n",
       "      <td>686</td>\n",
       "    </tr>\n",
       "    <tr>\n",
       "      <th>7</th>\n",
       "      <td>google</td>\n",
       "      <td>684</td>\n",
       "    </tr>\n",
       "    <tr>\n",
       "      <th>8</th>\n",
       "      <td>gpt</td>\n",
       "      <td>654</td>\n",
       "    </tr>\n",
       "    <tr>\n",
       "      <th>9</th>\n",
       "      <td>using</td>\n",
       "      <td>565</td>\n",
       "    </tr>\n",
       "  </tbody>\n",
       "</table>\n",
       "</div>"
      ],
      "text/plain": [
       "        Word  Frequency\n",
       "0    chatgpt       9634\n",
       "1     openai       1760\n",
       "2  microsoft       1344\n",
       "3       like        804\n",
       "4        new        740\n",
       "5        use        732\n",
       "6       chat        686\n",
       "7     google        684\n",
       "8        gpt        654\n",
       "9      using        565"
      ]
     },
     "execution_count": 50,
     "metadata": {},
     "output_type": "execute_result"
    }
   ],
   "source": [
    "pos_tweets = robertaResult[robertaResult[\"sentiment\"]==\"Positive\"]\n",
    "all_tokens = [token for sublist in pos_tweets['Stopword Removed'] for token in sublist]\n",
    "token_counts = Counter(all_tokens)\n",
    "top_10_tokens = token_counts.most_common(10)\n",
    "\n",
    "temp_table= pd.DataFrame(top_10_tokens, columns =['Word', 'Frequency'])\n",
    "temp_table"
   ]
  },
  {
   "cell_type": "markdown",
   "metadata": {},
   "source": [
    "### Top 10 Mentioned Tokens in Negative tweets in Roberta model"
   ]
  },
  {
   "cell_type": "code",
   "execution_count": 51,
   "metadata": {},
   "outputs": [
    {
     "data": {
      "text/html": [
       "<div>\n",
       "<style scoped>\n",
       "    .dataframe tbody tr th:only-of-type {\n",
       "        vertical-align: middle;\n",
       "    }\n",
       "\n",
       "    .dataframe tbody tr th {\n",
       "        vertical-align: top;\n",
       "    }\n",
       "\n",
       "    .dataframe thead th {\n",
       "        text-align: right;\n",
       "    }\n",
       "</style>\n",
       "<table border=\"1\" class=\"dataframe\">\n",
       "  <thead>\n",
       "    <tr style=\"text-align: right;\">\n",
       "      <th></th>\n",
       "      <th>Word</th>\n",
       "      <th>Frequency</th>\n",
       "    </tr>\n",
       "  </thead>\n",
       "  <tbody>\n",
       "    <tr>\n",
       "      <th>0</th>\n",
       "      <td>chatgpt</td>\n",
       "      <td>5363</td>\n",
       "    </tr>\n",
       "    <tr>\n",
       "      <th>1</th>\n",
       "      <td>like</td>\n",
       "      <td>652</td>\n",
       "    </tr>\n",
       "    <tr>\n",
       "      <th>2</th>\n",
       "      <td>chat</td>\n",
       "      <td>497</td>\n",
       "    </tr>\n",
       "    <tr>\n",
       "      <th>3</th>\n",
       "      <td>people</td>\n",
       "      <td>476</td>\n",
       "    </tr>\n",
       "    <tr>\n",
       "      <th>4</th>\n",
       "      <td>gpt</td>\n",
       "      <td>475</td>\n",
       "    </tr>\n",
       "    <tr>\n",
       "      <th>5</th>\n",
       "      <td>use</td>\n",
       "      <td>393</td>\n",
       "    </tr>\n",
       "    <tr>\n",
       "      <th>6</th>\n",
       "      <td>think</td>\n",
       "      <td>345</td>\n",
       "    </tr>\n",
       "    <tr>\n",
       "      <th>7</th>\n",
       "      <td>google</td>\n",
       "      <td>322</td>\n",
       "    </tr>\n",
       "    <tr>\n",
       "      <th>8</th>\n",
       "      <td>would</td>\n",
       "      <td>319</td>\n",
       "    </tr>\n",
       "    <tr>\n",
       "      <th>9</th>\n",
       "      <td>get</td>\n",
       "      <td>311</td>\n",
       "    </tr>\n",
       "  </tbody>\n",
       "</table>\n",
       "</div>"
      ],
      "text/plain": [
       "      Word  Frequency\n",
       "0  chatgpt       5363\n",
       "1     like        652\n",
       "2     chat        497\n",
       "3   people        476\n",
       "4      gpt        475\n",
       "5      use        393\n",
       "6    think        345\n",
       "7   google        322\n",
       "8    would        319\n",
       "9      get        311"
      ]
     },
     "execution_count": 51,
     "metadata": {},
     "output_type": "execute_result"
    }
   ],
   "source": [
    "neg_tweets = robertaResult[robertaResult[\"sentiment\"]==\"Negative\"]\n",
    "all_tokens = [token for sublist in neg_tweets['Stopword Removed'] for token in sublist]\n",
    "token_counts = Counter(all_tokens)\n",
    "top_10_tokens = token_counts.most_common(10)\n",
    "\n",
    "temp_table= pd.DataFrame(top_10_tokens, columns =['Word', 'Frequency'])\n",
    "temp_table"
   ]
  },
  {
   "cell_type": "markdown",
   "metadata": {},
   "source": [
    "### Top 10 Mentioned Tokens in N Netural in Roberta model"
   ]
  },
  {
   "cell_type": "code",
   "execution_count": 52,
   "metadata": {},
   "outputs": [
    {
     "data": {
      "text/html": [
       "<div>\n",
       "<style scoped>\n",
       "    .dataframe tbody tr th:only-of-type {\n",
       "        vertical-align: middle;\n",
       "    }\n",
       "\n",
       "    .dataframe tbody tr th {\n",
       "        vertical-align: top;\n",
       "    }\n",
       "\n",
       "    .dataframe thead th {\n",
       "        text-align: right;\n",
       "    }\n",
       "</style>\n",
       "<table border=\"1\" class=\"dataframe\">\n",
       "  <thead>\n",
       "    <tr style=\"text-align: right;\">\n",
       "      <th></th>\n",
       "      <th>Word</th>\n",
       "      <th>Frequency</th>\n",
       "    </tr>\n",
       "  </thead>\n",
       "  <tbody>\n",
       "    <tr>\n",
       "      <th>0</th>\n",
       "      <td>chatgpt</td>\n",
       "      <td>17310</td>\n",
       "    </tr>\n",
       "    <tr>\n",
       "      <th>1</th>\n",
       "      <td>openai</td>\n",
       "      <td>1882</td>\n",
       "    </tr>\n",
       "    <tr>\n",
       "      <th>2</th>\n",
       "      <td>chat</td>\n",
       "      <td>1477</td>\n",
       "    </tr>\n",
       "    <tr>\n",
       "      <th>3</th>\n",
       "      <td>gpt</td>\n",
       "      <td>1449</td>\n",
       "    </tr>\n",
       "    <tr>\n",
       "      <th>4</th>\n",
       "      <td>microsoft</td>\n",
       "      <td>1314</td>\n",
       "    </tr>\n",
       "    <tr>\n",
       "      <th>5</th>\n",
       "      <td>use</td>\n",
       "      <td>1215</td>\n",
       "    </tr>\n",
       "    <tr>\n",
       "      <th>6</th>\n",
       "      <td>like</td>\n",
       "      <td>1067</td>\n",
       "    </tr>\n",
       "    <tr>\n",
       "      <th>7</th>\n",
       "      <td>google</td>\n",
       "      <td>1038</td>\n",
       "    </tr>\n",
       "    <tr>\n",
       "      <th>8</th>\n",
       "      <td>using</td>\n",
       "      <td>853</td>\n",
       "    </tr>\n",
       "    <tr>\n",
       "      <th>9</th>\n",
       "      <td>write</td>\n",
       "      <td>806</td>\n",
       "    </tr>\n",
       "  </tbody>\n",
       "</table>\n",
       "</div>"
      ],
      "text/plain": [
       "        Word  Frequency\n",
       "0    chatgpt      17310\n",
       "1     openai       1882\n",
       "2       chat       1477\n",
       "3        gpt       1449\n",
       "4  microsoft       1314\n",
       "5        use       1215\n",
       "6       like       1067\n",
       "7     google       1038\n",
       "8      using        853\n",
       "9      write        806"
      ]
     },
     "execution_count": 52,
     "metadata": {},
     "output_type": "execute_result"
    }
   ],
   "source": [
    "neu_tweets = robertaResult[robertaResult[\"sentiment\"]==\"Neutral\"]\n",
    "all_tokens = [token for sublist in neu_tweets['Stopword Removed'] for token in sublist]\n",
    "token_counts = Counter(all_tokens)\n",
    "top_10_tokens = token_counts.most_common(10)\n",
    "\n",
    "temp_table= pd.DataFrame(top_10_tokens, columns =['Word', 'Frequency'])\n",
    "temp_table"
   ]
  },
  {
   "cell_type": "code",
   "execution_count": 78,
   "metadata": {},
   "outputs": [],
   "source": [
    "# ErrorText=robertaResult[robertaResult['sentiment'].isna()]\n",
    "# ErrorText[\"Text\"]"
   ]
  },
  {
   "cell_type": "markdown",
   "metadata": {},
   "source": [
    "## Combine and compare"
   ]
  },
  {
   "cell_type": "code",
   "execution_count": 138,
   "metadata": {},
   "outputs": [
    {
     "data": {
      "text/html": [
       "<div>\n",
       "<style scoped>\n",
       "    .dataframe tbody tr th:only-of-type {\n",
       "        vertical-align: middle;\n",
       "    }\n",
       "\n",
       "    .dataframe tbody tr th {\n",
       "        vertical-align: top;\n",
       "    }\n",
       "\n",
       "    .dataframe thead th {\n",
       "        text-align: right;\n",
       "    }\n",
       "</style>\n",
       "<table border=\"1\" class=\"dataframe\">\n",
       "  <thead>\n",
       "    <tr style=\"text-align: right;\">\n",
       "      <th></th>\n",
       "      <th>Tweet Id</th>\n",
       "      <th>vader_neg</th>\n",
       "      <th>vader_neu</th>\n",
       "      <th>vader_pos</th>\n",
       "      <th>vader_compound</th>\n",
       "      <th>vader_sentiment</th>\n",
       "    </tr>\n",
       "  </thead>\n",
       "  <tbody>\n",
       "    <tr>\n",
       "      <th>0</th>\n",
       "      <td>1617156291046133761</td>\n",
       "      <td>0.0</td>\n",
       "      <td>0.814</td>\n",
       "      <td>0.186</td>\n",
       "      <td>0.4939</td>\n",
       "      <td>Positive</td>\n",
       "    </tr>\n",
       "    <tr>\n",
       "      <th>1</th>\n",
       "      <td>1617156332297256961</td>\n",
       "      <td>0.0</td>\n",
       "      <td>1.0</td>\n",
       "      <td>0.0</td>\n",
       "      <td>0.0</td>\n",
       "      <td>Neutral</td>\n",
       "    </tr>\n",
       "    <tr>\n",
       "      <th>2</th>\n",
       "      <td>1617156389217894400</td>\n",
       "      <td>0.0</td>\n",
       "      <td>1.0</td>\n",
       "      <td>0.0</td>\n",
       "      <td>0.0</td>\n",
       "      <td>Neutral</td>\n",
       "    </tr>\n",
       "  </tbody>\n",
       "</table>\n",
       "</div>"
      ],
      "text/plain": [
       "              Tweet Id vader_neg vader_neu vader_pos vader_compound  \\\n",
       "0  1617156291046133761       0.0     0.814     0.186         0.4939   \n",
       "1  1617156332297256961       0.0       1.0       0.0            0.0   \n",
       "2  1617156389217894400       0.0       1.0       0.0            0.0   \n",
       "\n",
       "  vader_sentiment  \n",
       "0        Positive  \n",
       "1         Neutral  \n",
       "2         Neutral  "
      ]
     },
     "execution_count": 138,
     "metadata": {},
     "output_type": "execute_result"
    }
   ],
   "source": [
    "# vadersResult[['Text',\n",
    "#                  'neg',\n",
    "#                  'neu',\n",
    "#                  'pos',\n",
    "#                  'compound',\n",
    "#                  'sentiment']]\n",
    "rename_VaderResults={}\n",
    "for key,value in vaders.items():\n",
    "    if key !=\"Tweet Id\":\n",
    "        rename_VaderResults[f\"vader_{key}\"]=value\n",
    "    else:\n",
    "        rename_VaderResults[key]=value\n",
    "rename_VaderResults=pd.DataFrame(rename_VaderResults)\n",
    "rename_VaderResults.head(3)"
   ]
  },
  {
   "cell_type": "code",
   "execution_count": 139,
   "metadata": {},
   "outputs": [
    {
     "data": {
      "text/html": [
       "<div>\n",
       "<style scoped>\n",
       "    .dataframe tbody tr th:only-of-type {\n",
       "        vertical-align: middle;\n",
       "    }\n",
       "\n",
       "    .dataframe tbody tr th {\n",
       "        vertical-align: top;\n",
       "    }\n",
       "\n",
       "    .dataframe thead th {\n",
       "        text-align: right;\n",
       "    }\n",
       "</style>\n",
       "<table border=\"1\" class=\"dataframe\">\n",
       "  <thead>\n",
       "    <tr style=\"text-align: right;\">\n",
       "      <th></th>\n",
       "      <th>Tweet Id</th>\n",
       "      <th>roberta_neg</th>\n",
       "      <th>roberta_neu</th>\n",
       "      <th>roberta_pos</th>\n",
       "      <th>sentiment</th>\n",
       "    </tr>\n",
       "  </thead>\n",
       "  <tbody>\n",
       "    <tr>\n",
       "      <th>0</th>\n",
       "      <td>1617156291046133761</td>\n",
       "      <td>0.008655</td>\n",
       "      <td>0.560821</td>\n",
       "      <td>0.430524</td>\n",
       "      <td>Neutral</td>\n",
       "    </tr>\n",
       "    <tr>\n",
       "      <th>1</th>\n",
       "      <td>1617156332297256961</td>\n",
       "      <td>0.048818</td>\n",
       "      <td>0.895561</td>\n",
       "      <td>0.055621</td>\n",
       "      <td>Neutral</td>\n",
       "    </tr>\n",
       "    <tr>\n",
       "      <th>2</th>\n",
       "      <td>1617156389217894400</td>\n",
       "      <td>0.004709</td>\n",
       "      <td>0.617854</td>\n",
       "      <td>0.377437</td>\n",
       "      <td>Neutral</td>\n",
       "    </tr>\n",
       "    <tr>\n",
       "      <th>3</th>\n",
       "      <td>1617156393898745858</td>\n",
       "      <td>0.014811</td>\n",
       "      <td>0.331287</td>\n",
       "      <td>0.653902</td>\n",
       "      <td>Positive</td>\n",
       "    </tr>\n",
       "    <tr>\n",
       "      <th>4</th>\n",
       "      <td>1617156404137295878</td>\n",
       "      <td>0.026949</td>\n",
       "      <td>0.885862</td>\n",
       "      <td>0.087189</td>\n",
       "      <td>Neutral</td>\n",
       "    </tr>\n",
       "    <tr>\n",
       "      <th>...</th>\n",
       "      <td>...</td>\n",
       "      <td>...</td>\n",
       "      <td>...</td>\n",
       "      <td>...</td>\n",
       "      <td>...</td>\n",
       "    </tr>\n",
       "    <tr>\n",
       "      <th>32071</th>\n",
       "      <td>1617778649490489346</td>\n",
       "      <td>0.001788</td>\n",
       "      <td>0.151467</td>\n",
       "      <td>0.846744</td>\n",
       "      <td>Positive</td>\n",
       "    </tr>\n",
       "    <tr>\n",
       "      <th>32072</th>\n",
       "      <td>1617778662681772033</td>\n",
       "      <td>0.892805</td>\n",
       "      <td>0.097901</td>\n",
       "      <td>0.009294</td>\n",
       "      <td>Negative</td>\n",
       "    </tr>\n",
       "    <tr>\n",
       "      <th>32073</th>\n",
       "      <td>1617778665189953536</td>\n",
       "      <td>0.210467</td>\n",
       "      <td>0.508082</td>\n",
       "      <td>0.281451</td>\n",
       "      <td>Neutral</td>\n",
       "    </tr>\n",
       "    <tr>\n",
       "      <th>32074</th>\n",
       "      <td>1617778701374205952</td>\n",
       "      <td>0.58026</td>\n",
       "      <td>0.365413</td>\n",
       "      <td>0.054327</td>\n",
       "      <td>Negative</td>\n",
       "    </tr>\n",
       "    <tr>\n",
       "      <th>32075</th>\n",
       "      <td>1617778731678044162</td>\n",
       "      <td>0.012947</td>\n",
       "      <td>0.825753</td>\n",
       "      <td>0.1613</td>\n",
       "      <td>Neutral</td>\n",
       "    </tr>\n",
       "  </tbody>\n",
       "</table>\n",
       "<p>32076 rows × 5 columns</p>\n",
       "</div>"
      ],
      "text/plain": [
       "                  Tweet Id roberta_neg roberta_neu roberta_pos sentiment\n",
       "0      1617156291046133761    0.008655    0.560821    0.430524   Neutral\n",
       "1      1617156332297256961    0.048818    0.895561    0.055621   Neutral\n",
       "2      1617156389217894400    0.004709    0.617854    0.377437   Neutral\n",
       "3      1617156393898745858    0.014811    0.331287    0.653902  Positive\n",
       "4      1617156404137295878    0.026949    0.885862    0.087189   Neutral\n",
       "...                    ...         ...         ...         ...       ...\n",
       "32071  1617778649490489346    0.001788    0.151467    0.846744  Positive\n",
       "32072  1617778662681772033    0.892805    0.097901    0.009294  Negative\n",
       "32073  1617778665189953536    0.210467    0.508082    0.281451   Neutral\n",
       "32074  1617778701374205952     0.58026    0.365413    0.054327  Negative\n",
       "32075  1617778731678044162    0.012947    0.825753      0.1613   Neutral\n",
       "\n",
       "[32076 rows x 5 columns]"
      ]
     },
     "execution_count": 139,
     "metadata": {},
     "output_type": "execute_result"
    }
   ],
   "source": [
    "roberta"
   ]
  },
  {
   "cell_type": "code",
   "execution_count": 216,
   "metadata": {},
   "outputs": [
    {
     "data": {
      "text/html": [
       "<div>\n",
       "<style scoped>\n",
       "    .dataframe tbody tr th:only-of-type {\n",
       "        vertical-align: middle;\n",
       "    }\n",
       "\n",
       "    .dataframe tbody tr th {\n",
       "        vertical-align: top;\n",
       "    }\n",
       "\n",
       "    .dataframe thead th {\n",
       "        text-align: right;\n",
       "    }\n",
       "</style>\n",
       "<table border=\"1\" class=\"dataframe\">\n",
       "  <thead>\n",
       "    <tr style=\"text-align: right;\">\n",
       "      <th></th>\n",
       "      <th>Tweet Id</th>\n",
       "      <th>vader_neg</th>\n",
       "      <th>vader_neu</th>\n",
       "      <th>vader_pos</th>\n",
       "      <th>vader_compound</th>\n",
       "      <th>vader_sentiment</th>\n",
       "      <th>roberta_neg</th>\n",
       "      <th>roberta_neu</th>\n",
       "      <th>roberta_pos</th>\n",
       "      <th>roberta_sentiment</th>\n",
       "      <th>Text</th>\n",
       "    </tr>\n",
       "  </thead>\n",
       "  <tbody>\n",
       "    <tr>\n",
       "      <th>0</th>\n",
       "      <td>1617156291046133761</td>\n",
       "      <td>0.0</td>\n",
       "      <td>0.814</td>\n",
       "      <td>0.186</td>\n",
       "      <td>0.4939</td>\n",
       "      <td>Positive</td>\n",
       "      <td>0.008655</td>\n",
       "      <td>0.560821</td>\n",
       "      <td>0.430524</td>\n",
       "      <td>Neutral</td>\n",
       "      <td>@AlexandrovnaIng Prohibition of ChatGPT has be...</td>\n",
       "    </tr>\n",
       "    <tr>\n",
       "      <th>1</th>\n",
       "      <td>1617156332297256961</td>\n",
       "      <td>0.0</td>\n",
       "      <td>1.0</td>\n",
       "      <td>0.0</td>\n",
       "      <td>0.0</td>\n",
       "      <td>Neutral</td>\n",
       "      <td>0.048818</td>\n",
       "      <td>0.895561</td>\n",
       "      <td>0.055621</td>\n",
       "      <td>Neutral</td>\n",
       "      <td>Bow down to chatGPT 🫡..... https://t.co/ENTSzi...</td>\n",
       "    </tr>\n",
       "    <tr>\n",
       "      <th>2</th>\n",
       "      <td>1617156389217894400</td>\n",
       "      <td>0.0</td>\n",
       "      <td>1.0</td>\n",
       "      <td>0.0</td>\n",
       "      <td>0.0</td>\n",
       "      <td>Neutral</td>\n",
       "      <td>0.004709</td>\n",
       "      <td>0.617854</td>\n",
       "      <td>0.377437</td>\n",
       "      <td>Neutral</td>\n",
       "      <td>ChatGPT runs 10K Nvidia training GPUs with pot...</td>\n",
       "    </tr>\n",
       "  </tbody>\n",
       "</table>\n",
       "</div>"
      ],
      "text/plain": [
       "              Tweet Id vader_neg vader_neu vader_pos vader_compound  \\\n",
       "0  1617156291046133761       0.0     0.814     0.186         0.4939   \n",
       "1  1617156332297256961       0.0       1.0       0.0            0.0   \n",
       "2  1617156389217894400       0.0       1.0       0.0            0.0   \n",
       "\n",
       "  vader_sentiment roberta_neg roberta_neu roberta_pos roberta_sentiment  \\\n",
       "0        Positive    0.008655    0.560821    0.430524           Neutral   \n",
       "1         Neutral    0.048818    0.895561    0.055621           Neutral   \n",
       "2         Neutral    0.004709    0.617854    0.377437           Neutral   \n",
       "\n",
       "                                                Text  \n",
       "0  @AlexandrovnaIng Prohibition of ChatGPT has be...  \n",
       "1  Bow down to chatGPT 🫡..... https://t.co/ENTSzi...  \n",
       "2  ChatGPT runs 10K Nvidia training GPUs with pot...  "
      ]
     },
     "execution_count": 216,
     "metadata": {},
     "output_type": "execute_result"
    }
   ],
   "source": [
    "combine_result = rename_VaderResults.merge(roberta,how='right')\n",
    "combine_result= combine_result.rename(columns={\"sentiment\":\"roberta_sentiment\"})\n",
    "# join the \"text\" column\n",
    "combine_result = combine_result.merge(nlp_df[['Tweet Id','Text']],how='right')\n",
    "combine_result.head(3)"
   ]
  },
  {
   "cell_type": "code",
   "execution_count": 221,
   "metadata": {},
   "outputs": [
    {
     "name": "stdout",
     "output_type": "stream",
     "text": [
      "-----------\n",
      "i like when I call out chatgpt for telling me something that is obviously false and then she apologizes and tells me something else totally false.\n",
      "\n",
      "reminds me of working with a construction contractor.\n",
      "-----------\n",
      "Will someone please explain how chatGPT can be used by students to cheat?\n",
      "If more than one student takes help from chatGPT , won't they all get the same answer for the same question so it should be easy to catch.\n",
      "-----------\n",
      "@tunguz Seems like ChatGPT is already unleashed upon the masses without their help.\n",
      "-----------\n",
      "ChatGPT has been slow and unresponsive for the past few days.\n",
      "\n",
      "Who is ChatGPT’s reporting manager? I want to escalate this issue.\n",
      "-----------\n",
      "@openaicommunity be quite ???? man this ai is giving me the shivers. here too i told chat gpt to write me a greeting message and include a joke and of all jokes he chose this https://t.co/Lq54hxOPrO\n"
     ]
    }
   ],
   "source": [
    "compare_tweets = combine_result[(combine_result['vader_sentiment']==\"Positive\") & (combine_result['roberta_sentiment']==\"Negative\")].head(5)\n",
    "for sent in compare_tweets[\"Text\"].head(5):\n",
    "    print(\"-----------\")\n",
    "    print(sent)"
   ]
  },
  {
   "cell_type": "code",
   "execution_count": 222,
   "metadata": {},
   "outputs": [
    {
     "name": "stdout",
     "output_type": "stream",
     "text": [
      "-----------\n",
      "@SWENGDAD There is repetitive work in every job, there are lots of small tasks that can leverage chatgpt or copilot and keep you working at a higher level of abstraction.\n",
      "-----------\n",
      "@AlanLevinovitz To be fair, ChatGPT could easily generate the same quality of headlines as is currently written by NYT - no sacrifice in angry clickbait views, and for a fraction of the cost!\n",
      "-----------\n",
      "Microsoft Bets Big on the Creator of ChatGPT in Race to Dominate A.I.\n",
      "\n",
      "#Microsoft #OpenAI https://t.co/EuTc2ILOmd\n",
      "-----------\n",
      "https://t.co/o77c51qjSp\n",
      "We aliens have been using ChatGPT since our species evolved from rocks. So, why not join us and learn the secrets of the universe! 👽\n",
      "-----------\n",
      "#Tech #NewsFlash 01/22\n",
      "I spent an hour with a new, ChatGPT-inspired AI chatbot, and I may die laughing\n",
      "https://t.co/SPUjZYkXpZ\n",
      "#Technology #Bot #News\n"
     ]
    }
   ],
   "source": [
    "compare_tweets = combine_result[(combine_result['vader_sentiment']==\"Negative\") & (combine_result['roberta_sentiment']==\"Positive\")].head(5)\n",
    "for sent in compare_tweets[\"Text\"].head(5):\n",
    "    print(\"-----------\")\n",
    "    print(sent)"
   ]
  },
  {
   "cell_type": "code",
   "execution_count": 226,
   "metadata": {},
   "outputs": [
    {
     "name": "stderr",
     "output_type": "stream",
     "text": [
      "c:\\Users\\andre\\AppData\\Local\\Programs\\Python\\Python310\\lib\\site-packages\\docx\\styles\\styles.py:139: UserWarning: style lookup by style_id is deprecated. Use style name as key instead.\n",
      "  return self._get_style_id_from_style(self[style_name], style_type)\n"
     ]
    },
    {
     "data": {
      "text/html": [
       "<div>\n",
       "<style scoped>\n",
       "    .dataframe tbody tr th:only-of-type {\n",
       "        vertical-align: middle;\n",
       "    }\n",
       "\n",
       "    .dataframe tbody tr th {\n",
       "        vertical-align: top;\n",
       "    }\n",
       "\n",
       "    .dataframe thead th {\n",
       "        text-align: right;\n",
       "    }\n",
       "</style>\n",
       "<table border=\"1\" class=\"dataframe\">\n",
       "  <thead>\n",
       "    <tr style=\"text-align: right;\">\n",
       "      <th>roberta</th>\n",
       "      <th>Negative</th>\n",
       "      <th>Neutral</th>\n",
       "      <th>Positive</th>\n",
       "    </tr>\n",
       "    <tr>\n",
       "      <th>vader</th>\n",
       "      <th></th>\n",
       "      <th></th>\n",
       "      <th></th>\n",
       "    </tr>\n",
       "  </thead>\n",
       "  <tbody>\n",
       "    <tr>\n",
       "      <th>Negative</th>\n",
       "      <td>2840</td>\n",
       "      <td>2347</td>\n",
       "      <td>541</td>\n",
       "    </tr>\n",
       "    <tr>\n",
       "      <th>Neutral</th>\n",
       "      <td>1020</td>\n",
       "      <td>8774</td>\n",
       "      <td>1729</td>\n",
       "    </tr>\n",
       "    <tr>\n",
       "      <th>Positive</th>\n",
       "      <td>1569</td>\n",
       "      <td>6275</td>\n",
       "      <td>6981</td>\n",
       "    </tr>\n",
       "  </tbody>\n",
       "</table>\n",
       "</div>"
      ],
      "text/plain": [
       "roberta   Negative  Neutral  Positive\n",
       "vader                                \n",
       "Negative      2840     2347       541\n",
       "Neutral       1020     8774      1729\n",
       "Positive      1569     6275      6981"
      ]
     },
     "execution_count": 226,
     "metadata": {},
     "output_type": "execute_result"
    }
   ],
   "source": [
    "confusion_matrix = pd.crosstab(combine_result['vader_sentiment'], combine_result['roberta_sentiment'], rownames=['vader'], colnames=['roberta'])\n",
    "save_table_to_fig(confusion_matrix,'confusion_matrix.docx')\n",
    "confusion_matrix"
   ]
  },
  {
   "cell_type": "markdown",
   "metadata": {},
   "source": [
    "# Particular group with Sentiment results"
   ]
  },
  {
   "cell_type": "markdown",
   "metadata": {},
   "source": [
    "### Top 10 Mentioned Company Tokens in full dataset"
   ]
  },
  {
   "cell_type": "code",
   "execution_count": 96,
   "metadata": {},
   "outputs": [
    {
     "name": "stderr",
     "output_type": "stream",
     "text": [
      "c:\\Users\\andre\\AppData\\Local\\Programs\\Python\\Python310\\lib\\site-packages\\docx\\styles\\styles.py:139: UserWarning: style lookup by style_id is deprecated. Use style name as key instead.\n",
      "  return self._get_style_id_from_style(self[style_name], style_type)\n"
     ]
    },
    {
     "data": {
      "text/html": [
       "<div>\n",
       "<style scoped>\n",
       "    .dataframe tbody tr th:only-of-type {\n",
       "        vertical-align: middle;\n",
       "    }\n",
       "\n",
       "    .dataframe tbody tr th {\n",
       "        vertical-align: top;\n",
       "    }\n",
       "\n",
       "    .dataframe thead th {\n",
       "        text-align: right;\n",
       "    }\n",
       "</style>\n",
       "<table border=\"1\" class=\"dataframe\">\n",
       "  <thead>\n",
       "    <tr style=\"text-align: right;\">\n",
       "      <th></th>\n",
       "      <th>Word</th>\n",
       "      <th>Frequency</th>\n",
       "    </tr>\n",
       "  </thead>\n",
       "  <tbody>\n",
       "    <tr>\n",
       "      <th>0</th>\n",
       "      <td>openai</td>\n",
       "      <td>3858</td>\n",
       "    </tr>\n",
       "    <tr>\n",
       "      <th>1</th>\n",
       "      <td>microsoft</td>\n",
       "      <td>2763</td>\n",
       "    </tr>\n",
       "    <tr>\n",
       "      <th>2</th>\n",
       "      <td>next</td>\n",
       "      <td>486</td>\n",
       "    </tr>\n",
       "    <tr>\n",
       "      <th>3</th>\n",
       "      <td>twitter</td>\n",
       "      <td>379</td>\n",
       "    </tr>\n",
       "    <tr>\n",
       "      <th>4</th>\n",
       "      <td>popular</td>\n",
       "      <td>123</td>\n",
       "    </tr>\n",
       "    <tr>\n",
       "      <th>5</th>\n",
       "      <td>nvidia</td>\n",
       "      <td>111</td>\n",
       "    </tr>\n",
       "    <tr>\n",
       "      <th>6</th>\n",
       "      <td>tesla</td>\n",
       "      <td>84</td>\n",
       "    </tr>\n",
       "    <tr>\n",
       "      <th>7</th>\n",
       "      <td>apple</td>\n",
       "      <td>70</td>\n",
       "    </tr>\n",
       "    <tr>\n",
       "      <th>8</th>\n",
       "      <td>amazon</td>\n",
       "      <td>67</td>\n",
       "    </tr>\n",
       "    <tr>\n",
       "      <th>9</th>\n",
       "      <td>block</td>\n",
       "      <td>46</td>\n",
       "    </tr>\n",
       "  </tbody>\n",
       "</table>\n",
       "</div>"
      ],
      "text/plain": [
       "        Word  Frequency\n",
       "0     openai       3858\n",
       "1  microsoft       2763\n",
       "2       next        486\n",
       "3    twitter        379\n",
       "4    popular        123\n",
       "5     nvidia        111\n",
       "6      tesla         84\n",
       "7      apple         70\n",
       "8     amazon         67\n",
       "9      block         46"
      ]
     },
     "execution_count": 96,
     "metadata": {},
     "output_type": "execute_result"
    }
   ],
   "source": [
    "# Loading top 2000 company dataset \n",
    "df_forbes = pd.read_csv(\"./Forbes_2000_top_company_CLNQ11.csv\")\n",
    "company_names = set(df_forbes[\"Organization Name\"].str.lower().tolist())\n",
    "company_names.add(\"openai\")\n",
    "tokens_list = nlp_df['Stopword Removed'].tolist()\n",
    "tokens = [token for tokens in tokens_list for token in tokens]\n",
    "found_companies = [token for token in tokens if token.lower() in company_names]\n",
    "companies_counts = Counter(found_companies)\n",
    "companies_counts\n",
    "temp_table= pd.DataFrame(companies_counts.most_common()[:10], columns =['Word', 'Frequency'])\n",
    "save_table_to_fig(temp_table,'table2.docx')\n",
    "temp_table"
   ]
  },
  {
   "cell_type": "markdown",
   "metadata": {},
   "source": [
    "- The list of the most mentioned companies shows the Microsoft as most used companu in the tweets.\n",
    " - Twitter, Nvidia, Tesla, Apple, Amazon are the mist mentioned companies in the texts.\n",
    " - 'Next', 'popular', 'block' and 'target' could be noises in the names and also could be names of companies and we can't count on them entirely. "
   ]
  },
  {
   "cell_type": "markdown",
   "metadata": {},
   "source": [
    "### Number of counts with the sentiment label (using RoBERTa model) in tweets that mentioned “microsoft”\n"
   ]
  },
  {
   "cell_type": "code",
   "execution_count": 65,
   "metadata": {},
   "outputs": [
    {
     "data": {
      "image/png": "[encoded data removed]",
      "text/plain": [
       "<Figure size 864x648 with 1 Axes>"
      ]
     },
     "metadata": {
      "needs_background": "light"
     },
     "output_type": "display_data"
    }
   ],
   "source": [
    "filtered_df = robertaResult[robertaResult['Stopword Removed'].apply(lambda tokens: 'microsoft' in tokens)]\n",
    "plt.figure(figsize=(12,9))\n",
    "sns.countplot(x=\"sentiment\",data=filtered_df,order=['Positive', 'Neutral', 'Negative'])\n",
    "plt.savefig('fig5.png')\n",
    "plt.show()"
   ]
  },
  {
   "cell_type": "markdown",
   "metadata": {},
   "source": []
  },
  {
   "cell_type": "code",
   "execution_count": 70,
   "metadata": {},
   "outputs": [
    {
     "name": "stdout",
     "output_type": "stream",
     "text": [
      "-----------\n",
      "It's not at all weird that between the #ChatGPT bullshit and $MSFT reporting earnings next week, shitass Microsoft keeps trying to put Edge on my desktop.  That's a real necessary software update for you.  The answer is still a resounding fuck you, Microsoft!\n",
      "-----------\n",
      "#layoffs2023 is really heartbroken for those who spent most of the time of their life. People plan their entire life based on earning BUT now what to do? think about their family. #Google #Microsoft #OpenAI #ChatGPT\n",
      "-----------\n",
      "The Google layoff appeared to have been brutal. One observation is that a lot of tenured people were let go. Looks like a cost reduction calculation, rather than performance based. The Microsoft + ChatGpt collab is going to test Sundar Pichai’s growth and defense strategy.\n",
      "-----------\n",
      "half of google’s search results are ai-generated spam. meanwhile, microsoft basically bought openAI and are integrating chatgpt into bing to answer queries on-page (without showing all the ai-generated spam). funny stuff https://t.co/Dd0gVldTbk\n",
      "-----------\n",
      "Tech hyper bull 💩. Tech is at a dead end with nothing to meaningfully increase productivity. All consumer crap to enhance their real business...advertising. \n",
      "\n",
      "Microsoft’s big bet on AI could bring ChatGPT to the masses https://t.co/JOeXponx7d\n"
     ]
    }
   ],
   "source": [
    "pos_tweets = filtered_df[filtered_df[\"sentiment\"]==\"Negative\"]\n",
    "pos_tweets[['Text',\n",
    "                 'roberta_pos',\n",
    "                 'roberta_neg',\n",
    "                 'roberta_neu',\n",
    "                 'sentiment']].head()\n",
    "for sent in pos_tweets[\"Text\"].head(5):\n",
    "    print(\"-----------\")\n",
    "    print(sent)"
   ]
  },
  {
   "cell_type": "markdown",
   "metadata": {},
   "source": [
    "### Number of counts with the sentiment label (using RoBERTa model) in tweets that mentioned \"openai\"\n"
   ]
  },
  {
   "cell_type": "code",
   "execution_count": 132,
   "metadata": {},
   "outputs": [
    {
     "data": {
      "image/png": "[encoded data removed]",
      "text/plain": [
       "<Figure size 864x432 with 1 Axes>"
      ]
     },
     "metadata": {
      "needs_background": "light"
     },
     "output_type": "display_data"
    }
   ],
   "source": [
    "filtered_df = robertaResult[robertaResult['Stopword Removed'].apply(lambda tokens: 'openai' in tokens)]\n",
    "plt.figure(figsize=(12,6))\n",
    "sns.countplot(x=\"sentiment\",data=filtered_df,order=['Positive', 'Neutral', 'Negative'])\n",
    "plt.show()"
   ]
  },
  {
   "cell_type": "code",
   "execution_count": null,
   "metadata": {},
   "outputs": [],
   "source": []
  },
  {
   "cell_type": "code",
   "execution_count": 133,
   "metadata": {},
   "outputs": [
    {
     "name": "stdout",
     "output_type": "stream",
     "text": [
      "-----------\n",
      "🚨⚠️🚨 #Russian criminals can't wait to hop over #OpenAI's fence, use #ChatGPT for evil #Phishing #ransomware #cyberattacks #privacy #cyberintelligence #infosec #cybersec #cybersecurity #dataprotection #databreach #Crypto #infosecurit https://t.co/apEnAcQZPx\n",
      "-----------\n",
      "@OpenAI why ChatGPT is not available in african countries ? https://t.co/Qd5oDRUozt\n",
      "-----------\n",
      "@OpenAI Chat GPT is bonkers https://t.co/OeYYXWdsxP\n",
      "-----------\n",
      "@Samuel_Orogun @closebracket @0xIrish369 @harishkgarg @OpenAI Didn't you read the bit that said \"I don't know\"? I'm literally saying I don't see the benefit of chat GPT to the third world but other ai systems would have benefit.\n",
      "\n",
      "None of this changes the fact that chat GPT costs 42 USD monthly.\n",
      "-----------\n",
      "According to the AI gods, this is the current state of #unknownrealm :(\n",
      "#indiedev #openai #chatgpt https://t.co/qwNu1hls6w\n"
     ]
    }
   ],
   "source": [
    "pos_tweets = filtered_df[filtered_df[\"sentiment\"]==\"Negative\"]\n",
    "pos_tweets[['Text',\n",
    "                 'roberta_pos',\n",
    "                 'roberta_neg',\n",
    "                 'roberta_neu',\n",
    "                 'sentiment']].head()\n",
    "for sent in pos_tweets[\"Text\"].head(5):\n",
    "    print(\"-----------\")\n",
    "    print(sent)"
   ]
  },
  {
   "cell_type": "markdown",
   "metadata": {},
   "source": [
    "## perform Named Entity Recognition "
   ]
  },
  {
   "cell_type": "code",
   "execution_count": 88,
   "metadata": {},
   "outputs": [],
   "source": [
    "nlp = spacy.load(\"en_core_web_sm\")\n",
    "def extract_org_entities(tokens):\n",
    "    text = \" \".join(tokens)\n",
    "    doc = nlp(text)\n",
    "    org_entities = [ent.text for ent in doc.ents if ent.label_ == \"ORG\"]\n",
    "    return org_entities\n",
    "\n",
    "found_org = nlp_df[\"Stopword Removed\"].apply(extract_org_entities)"
   ]
  },
  {
   "cell_type": "code",
   "execution_count": 91,
   "metadata": {},
   "outputs": [
    {
     "name": "stderr",
     "output_type": "stream",
     "text": [
      "c:\\Users\\andre\\AppData\\Local\\Programs\\Python\\Python310\\lib\\site-packages\\docx\\styles\\styles.py:139: UserWarning: style lookup by style_id is deprecated. Use style name as key instead.\n",
      "  return self._get_style_id_from_style(self[style_name], style_type)\n"
     ]
    },
    {
     "data": {
      "text/html": [
       "<div>\n",
       "<style scoped>\n",
       "    .dataframe tbody tr th:only-of-type {\n",
       "        vertical-align: middle;\n",
       "    }\n",
       "\n",
       "    .dataframe tbody tr th {\n",
       "        vertical-align: top;\n",
       "    }\n",
       "\n",
       "    .dataframe thead th {\n",
       "        text-align: right;\n",
       "    }\n",
       "</style>\n",
       "<table border=\"1\" class=\"dataframe\">\n",
       "  <thead>\n",
       "    <tr style=\"text-align: right;\">\n",
       "      <th></th>\n",
       "      <th>Word</th>\n",
       "      <th>Frequency</th>\n",
       "    </tr>\n",
       "  </thead>\n",
       "  <tbody>\n",
       "    <tr>\n",
       "      <th>0</th>\n",
       "      <td>microsoft</td>\n",
       "      <td>2317</td>\n",
       "    </tr>\n",
       "    <tr>\n",
       "      <th>1</th>\n",
       "      <td>gpt</td>\n",
       "      <td>2270</td>\n",
       "    </tr>\n",
       "    <tr>\n",
       "      <th>2</th>\n",
       "      <td>google</td>\n",
       "      <td>740</td>\n",
       "    </tr>\n",
       "    <tr>\n",
       "      <th>3</th>\n",
       "      <td>chatgpt</td>\n",
       "      <td>536</td>\n",
       "    </tr>\n",
       "    <tr>\n",
       "      <th>4</th>\n",
       "      <td>gpt3</td>\n",
       "      <td>308</td>\n",
       "    </tr>\n",
       "    <tr>\n",
       "      <th>5</th>\n",
       "      <td>stanford</td>\n",
       "      <td>90</td>\n",
       "    </tr>\n",
       "    <tr>\n",
       "      <th>6</th>\n",
       "      <td>cnn</td>\n",
       "      <td>73</td>\n",
       "    </tr>\n",
       "    <tr>\n",
       "      <th>7</th>\n",
       "      <td>google chatgpt</td>\n",
       "      <td>53</td>\n",
       "    </tr>\n",
       "    <tr>\n",
       "      <th>8</th>\n",
       "      <td>fed</td>\n",
       "      <td>39</td>\n",
       "    </tr>\n",
       "    <tr>\n",
       "      <th>9</th>\n",
       "      <td>nvidia</td>\n",
       "      <td>39</td>\n",
       "    </tr>\n",
       "  </tbody>\n",
       "</table>\n",
       "</div>"
      ],
      "text/plain": [
       "             Word  Frequency\n",
       "0       microsoft       2317\n",
       "1             gpt       2270\n",
       "2          google        740\n",
       "3         chatgpt        536\n",
       "4            gpt3        308\n",
       "5        stanford         90\n",
       "6             cnn         73\n",
       "7  google chatgpt         53\n",
       "8             fed         39\n",
       "9          nvidia         39"
      ]
     },
     "execution_count": 91,
     "metadata": {},
     "output_type": "execute_result"
    }
   ],
   "source": [
    "all_tokens = [token for sublist in found_org for token in sublist]\n",
    "org_counts = Counter(all_tokens)\n",
    "top_10_tokens = org_counts.most_common(10)\n",
    "\n",
    "temp_table= pd.DataFrame(top_10_tokens, columns =['Word', 'Frequency'])\n",
    "save_table_to_fig(temp_table,'table3.docx')\n",
    "temp_table"
   ]
  },
  {
   "cell_type": "code",
   "execution_count": 92,
   "metadata": {},
   "outputs": [],
   "source": [
    "nlp = spacy.load(\"en_core_web_sm\")\n",
    "def extract_person_entities(tokens):\n",
    "    text = \" \".join(tokens)\n",
    "    doc = nlp(text)\n",
    "    person_entities = [ent.text for ent in doc.ents if ent.label_ == \"PERSON\"]\n",
    "    return person_entities\n",
    "\n",
    "found_people = nlp_df[\"Stopword Removed\"].apply(extract_person_entities)"
   ]
  },
  {
   "cell_type": "code",
   "execution_count": 95,
   "metadata": {},
   "outputs": [
    {
     "name": "stderr",
     "output_type": "stream",
     "text": [
      "c:\\Users\\andre\\AppData\\Local\\Programs\\Python\\Python310\\lib\\site-packages\\docx\\styles\\styles.py:139: UserWarning: style lookup by style_id is deprecated. Use style name as key instead.\n",
      "  return self._get_style_id_from_style(self[style_name], style_type)\n"
     ]
    },
    {
     "data": {
      "text/html": [
       "<div>\n",
       "<style scoped>\n",
       "    .dataframe tbody tr th:only-of-type {\n",
       "        vertical-align: middle;\n",
       "    }\n",
       "\n",
       "    .dataframe tbody tr th {\n",
       "        vertical-align: top;\n",
       "    }\n",
       "\n",
       "    .dataframe thead th {\n",
       "        text-align: right;\n",
       "    }\n",
       "</style>\n",
       "<table border=\"1\" class=\"dataframe\">\n",
       "  <thead>\n",
       "    <tr style=\"text-align: right;\">\n",
       "      <th></th>\n",
       "      <th>Names</th>\n",
       "      <th>Frequency</th>\n",
       "    </tr>\n",
       "  </thead>\n",
       "  <tbody>\n",
       "    <tr>\n",
       "      <th>0</th>\n",
       "      <td>https</td>\n",
       "      <td>60</td>\n",
       "    </tr>\n",
       "    <tr>\n",
       "      <th>1</th>\n",
       "      <td>larry</td>\n",
       "      <td>59</td>\n",
       "    </tr>\n",
       "    <tr>\n",
       "      <th>2</th>\n",
       "      <td>gautam adani</td>\n",
       "      <td>50</td>\n",
       "    </tr>\n",
       "    <tr>\n",
       "      <th>3</th>\n",
       "      <td>wharton</td>\n",
       "      <td>45</td>\n",
       "    </tr>\n",
       "    <tr>\n",
       "      <th>4</th>\n",
       "      <td>dalle2</td>\n",
       "      <td>43</td>\n",
       "    </tr>\n",
       "    <tr>\n",
       "      <th>5</th>\n",
       "      <td>msft microsoft</td>\n",
       "      <td>38</td>\n",
       "    </tr>\n",
       "    <tr>\n",
       "      <th>6</th>\n",
       "      <td>chatbot</td>\n",
       "      <td>21</td>\n",
       "    </tr>\n",
       "    <tr>\n",
       "      <th>7</th>\n",
       "      <td>🤣🤣</td>\n",
       "      <td>20</td>\n",
       "    </tr>\n",
       "    <tr>\n",
       "      <th>8</th>\n",
       "      <td>ylecun</td>\n",
       "      <td>20</td>\n",
       "    </tr>\n",
       "    <tr>\n",
       "      <th>9</th>\n",
       "      <td>meta chief</td>\n",
       "      <td>20</td>\n",
       "    </tr>\n",
       "  </tbody>\n",
       "</table>\n",
       "</div>"
      ],
      "text/plain": [
       "            Names  Frequency\n",
       "0           https         60\n",
       "1           larry         59\n",
       "2    gautam adani         50\n",
       "3         wharton         45\n",
       "4          dalle2         43\n",
       "5  msft microsoft         38\n",
       "6         chatbot         21\n",
       "7              🤣🤣         20\n",
       "8          ylecun         20\n",
       "9      meta chief         20"
      ]
     },
     "execution_count": 95,
     "metadata": {},
     "output_type": "execute_result"
    }
   ],
   "source": [
    "all_tokens = [token for sublist in found_people for token in sublist]\n",
    "people_counts = Counter(all_tokens)\n",
    "top_10_tokens = people_counts.most_common(10)\n",
    "\n",
    "temp_table= pd.DataFrame(top_10_tokens, columns =['Names', 'Frequency'])\n",
    "save_table_to_fig(temp_table,'table4.docx')\n",
    "temp_table"
   ]
  },
  {
   "cell_type": "markdown",
   "metadata": {},
   "source": [
    "### Number of counts with the sentiment label (using RoBERTa model) in tweets that mentioned \"gautam adani\"\n"
   ]
  },
  {
   "cell_type": "code",
   "execution_count": 84,
   "metadata": {},
   "outputs": [
    {
     "data": {
      "image/png": "[encoded data removed]",
      "text/plain": [
       "<Figure size 864x432 with 1 Axes>"
      ]
     },
     "metadata": {
      "needs_background": "light"
     },
     "output_type": "display_data"
    }
   ],
   "source": [
    "filtered_df = robertaResult[robertaResult['Stopword Removed'].apply(lambda tokens: 'gautam' and'adani' in tokens)]\n",
    "plt.figure(figsize=(12,6))\n",
    "sns.countplot(x=\"sentiment\",data=filtered_df,order=['Positive', 'Neutral', 'Negative'])\n",
    "plt.show()"
   ]
  },
  {
   "cell_type": "code",
   "execution_count": 86,
   "metadata": {},
   "outputs": [
    {
     "name": "stdout",
     "output_type": "stream",
     "text": [
      "-----------\n",
      "Even the richest man in Asia, Gautam Adani, couldn't resist the power of #ChatGPT  In a recent LinkedIn article, he praised the technology and admitted to being hooked after ChatGPT's first use. \n",
      "\n",
      "#ArtificialIntelligence #Adani #innovation #Growth #leadership #Job #layoffs2023 https://t.co/RQPJhHqGoJ\n",
      "-----------\n",
      "Asia’s Richest Billionaire Gautam Adani Reveals He Is Addicted To ChatGPT But Not Without Warnings\n",
      "Adani on AI and the future of technology\n",
      "By James Paul  Jan. 22, 2023 \n",
      " \n",
      "Wonderful ! https://t.co/hrSFyZQkkl\n",
      "-----------\n",
      "Asia's richest man Gautam Adani is addicted to ChatGPT https://t.co/3frLo4aJB8\n",
      "-----------\n",
      "Asia's richest man Gautam Adani is addicted to ChatGPT https://t.co/MxiV5x4cx1\n",
      "-----------\n",
      "Asia's richest man Gautam Adani says he is addicted to ChatGPT, the powerful new AI tool that interacts with users in an eerily convincing and conversational way. https://t.co/9ymyuAD1Jk\n"
     ]
    }
   ],
   "source": [
    "pos_tweets = filtered_df[filtered_df[\"sentiment\"]==\"Positive\"]\n",
    "pos_tweets[['Text',\n",
    "                 'roberta_pos',\n",
    "                 'roberta_neg',\n",
    "                 'roberta_neu',\n",
    "                 'sentiment']].head()\n",
    "for sent in pos_tweets[\"Text\"].head(5):\n",
    "    print(\"-----------\")\n",
    "    print(sent)"
   ]
  }
 ],
 "metadata": {
  "kernelspec": {
   "display_name": "Python 3",
   "language": "python",
   "name": "python3"
  },
  "language_info": {
   "codemirror_mode": {
    "name": "ipython",
    "version": 3
   },
   "file_extension": ".py",
   "mimetype": "text/x-python",
   "name": "python",
   "nbconvert_exporter": "python",
   "pygments_lexer": "ipython3",
   "version": "3.10.4"
  },
  "orig_nbformat": 4
 },
 "nbformat": 4,
 "nbformat_minor": 2
}
